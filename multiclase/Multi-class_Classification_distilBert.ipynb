{
 "cells": [
  {
   "attachments": {},
   "cell_type": "markdown",
   "metadata": {
    "id": "K8rPS5-aTUys"
   },
   "source": [
    "# FineTuning BERT for Multi-Class Classification with custom datasets\n",
    "\n",
    "### [Link to Dataset](https://www.kaggle.com/datasets/savasy/ttc4900)"
   ]
  },
  {
   "cell_type": "code",
   "execution_count": 1,
   "metadata": {},
   "outputs": [
    {
     "name": "stdout",
     "output_type": "stream",
     "text": [
      "Requirement already satisfied: transformers in c:\\users\\ario\\appdata\\local\\programs\\python\\python313\\lib\\site-packages (4.46.3)\n",
      "Collecting datasets\n",
      "  Downloading datasets-4.0.0-py3-none-any.whl.metadata (19 kB)\n",
      "Requirement already satisfied: filelock in c:\\users\\ario\\appdata\\local\\programs\\python\\python313\\lib\\site-packages (from transformers) (3.16.1)\n",
      "Requirement already satisfied: huggingface-hub<1.0,>=0.23.2 in c:\\users\\ario\\appdata\\local\\programs\\python\\python313\\lib\\site-packages (from transformers) (0.26.2)\n",
      "Requirement already satisfied: numpy>=1.17 in c:\\users\\ario\\appdata\\local\\programs\\python\\python313\\lib\\site-packages (from transformers) (2.1.3)\n",
      "Requirement already satisfied: packaging>=20.0 in c:\\users\\ario\\appdata\\local\\programs\\python\\python313\\lib\\site-packages (from transformers) (24.2)\n",
      "Requirement already satisfied: pyyaml>=5.1 in c:\\users\\ario\\appdata\\local\\programs\\python\\python313\\lib\\site-packages (from transformers) (6.0.2)\n",
      "Requirement already satisfied: regex!=2019.12.17 in c:\\users\\ario\\appdata\\local\\programs\\python\\python313\\lib\\site-packages (from transformers) (2024.11.6)\n",
      "Requirement already satisfied: requests in c:\\users\\ario\\appdata\\local\\programs\\python\\python313\\lib\\site-packages (from transformers) (2.32.3)\n",
      "Requirement already satisfied: tokenizers<0.21,>=0.20 in c:\\users\\ario\\appdata\\local\\programs\\python\\python313\\lib\\site-packages (from transformers) (0.20.4)\n",
      "Requirement already satisfied: safetensors>=0.4.1 in c:\\users\\ario\\appdata\\local\\programs\\python\\python313\\lib\\site-packages (from transformers) (0.4.5)\n",
      "Requirement already satisfied: tqdm>=4.27 in c:\\users\\ario\\appdata\\local\\programs\\python\\python313\\lib\\site-packages (from transformers) (4.67.0)\n",
      "Requirement already satisfied: fsspec>=2023.5.0 in c:\\users\\ario\\appdata\\local\\programs\\python\\python313\\lib\\site-packages (from huggingface-hub<1.0,>=0.23.2->transformers) (2024.10.0)\n",
      "Requirement already satisfied: typing-extensions>=3.7.4.3 in c:\\users\\ario\\appdata\\local\\programs\\python\\python313\\lib\\site-packages (from huggingface-hub<1.0,>=0.23.2->transformers) (4.12.2)\n",
      "Collecting pyarrow>=15.0.0 (from datasets)\n",
      "  Downloading pyarrow-21.0.0-cp313-cp313-win_amd64.whl.metadata (3.4 kB)\n",
      "Collecting dill<0.3.9,>=0.3.0 (from datasets)\n",
      "  Downloading dill-0.3.8-py3-none-any.whl.metadata (10 kB)\n",
      "Requirement already satisfied: pandas in c:\\users\\ario\\appdata\\local\\programs\\python\\python313\\lib\\site-packages (from datasets) (2.3.1)\n",
      "Collecting xxhash (from datasets)\n",
      "  Downloading xxhash-3.5.0-cp313-cp313-win_amd64.whl.metadata (13 kB)\n",
      "Collecting multiprocess<0.70.17 (from datasets)\n",
      "  Downloading multiprocess-0.70.16-py312-none-any.whl.metadata (7.2 kB)\n",
      "Collecting aiohttp!=4.0.0a0,!=4.0.0a1 (from fsspec[http]<=2025.3.0,>=2023.1.0->datasets)\n",
      "  Downloading aiohttp-3.12.15-cp313-cp313-win_amd64.whl.metadata (7.9 kB)\n",
      "Collecting aiohappyeyeballs>=2.5.0 (from aiohttp!=4.0.0a0,!=4.0.0a1->fsspec[http]<=2025.3.0,>=2023.1.0->datasets)\n",
      "  Downloading aiohappyeyeballs-2.6.1-py3-none-any.whl.metadata (5.9 kB)\n",
      "Collecting aiosignal>=1.4.0 (from aiohttp!=4.0.0a0,!=4.0.0a1->fsspec[http]<=2025.3.0,>=2023.1.0->datasets)\n",
      "  Downloading aiosignal-1.4.0-py3-none-any.whl.metadata (3.7 kB)\n",
      "Requirement already satisfied: attrs>=17.3.0 in c:\\users\\ario\\appdata\\local\\programs\\python\\python313\\lib\\site-packages (from aiohttp!=4.0.0a0,!=4.0.0a1->fsspec[http]<=2025.3.0,>=2023.1.0->datasets) (24.2.0)\n",
      "Collecting frozenlist>=1.1.1 (from aiohttp!=4.0.0a0,!=4.0.0a1->fsspec[http]<=2025.3.0,>=2023.1.0->datasets)\n",
      "  Downloading frozenlist-1.7.0-cp313-cp313-win_amd64.whl.metadata (19 kB)\n",
      "Collecting multidict<7.0,>=4.5 (from aiohttp!=4.0.0a0,!=4.0.0a1->fsspec[http]<=2025.3.0,>=2023.1.0->datasets)\n",
      "  Downloading multidict-6.6.4-cp313-cp313-win_amd64.whl.metadata (5.4 kB)\n",
      "Collecting propcache>=0.2.0 (from aiohttp!=4.0.0a0,!=4.0.0a1->fsspec[http]<=2025.3.0,>=2023.1.0->datasets)\n",
      "  Downloading propcache-0.3.2-cp313-cp313-win_amd64.whl.metadata (12 kB)\n",
      "Collecting yarl<2.0,>=1.17.0 (from aiohttp!=4.0.0a0,!=4.0.0a1->fsspec[http]<=2025.3.0,>=2023.1.0->datasets)\n",
      "  Downloading yarl-1.20.1-cp313-cp313-win_amd64.whl.metadata (76 kB)\n",
      "Requirement already satisfied: idna>=2.0 in c:\\users\\ario\\appdata\\local\\programs\\python\\python313\\lib\\site-packages (from yarl<2.0,>=1.17.0->aiohttp!=4.0.0a0,!=4.0.0a1->fsspec[http]<=2025.3.0,>=2023.1.0->datasets) (3.10)\n",
      "Requirement already satisfied: charset-normalizer<4,>=2 in c:\\users\\ario\\appdata\\local\\programs\\python\\python313\\lib\\site-packages (from requests->transformers) (3.4.0)\n",
      "Requirement already satisfied: urllib3<3,>=1.21.1 in c:\\users\\ario\\appdata\\local\\programs\\python\\python313\\lib\\site-packages (from requests->transformers) (2.2.3)\n",
      "Requirement already satisfied: certifi>=2017.4.17 in c:\\users\\ario\\appdata\\local\\programs\\python\\python313\\lib\\site-packages (from requests->transformers) (2024.8.30)\n",
      "Requirement already satisfied: colorama in c:\\users\\ario\\appdata\\local\\programs\\python\\python313\\lib\\site-packages (from tqdm>=4.27->transformers) (0.4.6)\n",
      "Requirement already satisfied: python-dateutil>=2.8.2 in c:\\users\\ario\\appdata\\local\\programs\\python\\python313\\lib\\site-packages (from pandas->datasets) (2.9.0.post0)\n",
      "Requirement already satisfied: pytz>=2020.1 in c:\\users\\ario\\appdata\\local\\programs\\python\\python313\\lib\\site-packages (from pandas->datasets) (2024.2)\n",
      "Requirement already satisfied: tzdata>=2022.7 in c:\\users\\ario\\appdata\\local\\programs\\python\\python313\\lib\\site-packages (from pandas->datasets) (2024.2)\n",
      "Requirement already satisfied: six>=1.5 in c:\\users\\ario\\appdata\\local\\programs\\python\\python313\\lib\\site-packages (from python-dateutil>=2.8.2->pandas->datasets) (1.16.0)\n",
      "Downloading datasets-4.0.0-py3-none-any.whl (494 kB)\n",
      "Downloading dill-0.3.8-py3-none-any.whl (116 kB)\n",
      "Downloading multiprocess-0.70.16-py312-none-any.whl (146 kB)\n",
      "Downloading aiohttp-3.12.15-cp313-cp313-win_amd64.whl (449 kB)\n",
      "Downloading multidict-6.6.4-cp313-cp313-win_amd64.whl (45 kB)\n",
      "Downloading yarl-1.20.1-cp313-cp313-win_amd64.whl (86 kB)\n",
      "Downloading aiohappyeyeballs-2.6.1-py3-none-any.whl (15 kB)\n",
      "Downloading aiosignal-1.4.0-py3-none-any.whl (7.5 kB)\n",
      "Downloading frozenlist-1.7.0-cp313-cp313-win_amd64.whl (43 kB)\n",
      "Downloading propcache-0.3.2-cp313-cp313-win_amd64.whl (40 kB)\n",
      "Downloading pyarrow-21.0.0-cp313-cp313-win_amd64.whl (26.1 MB)\n",
      "   ---------------------------------------- 0.0/26.1 MB ? eta -:--:--\n",
      "   --- ------------------------------------ 2.1/26.1 MB 12.9 MB/s eta 0:00:02\n",
      "   -------- ------------------------------- 5.2/26.1 MB 13.6 MB/s eta 0:00:02\n",
      "   ------------ --------------------------- 8.4/26.1 MB 13.9 MB/s eta 0:00:02\n",
      "   ----------------- ---------------------- 11.5/26.1 MB 14.3 MB/s eta 0:00:02\n",
      "   ---------------------- ----------------- 14.9/26.1 MB 14.6 MB/s eta 0:00:01\n",
      "   ---------------------------- ----------- 18.6/26.1 MB 14.9 MB/s eta 0:00:01\n",
      "   --------------------------------- ------ 22.0/26.1 MB 15.1 MB/s eta 0:00:01\n",
      "   ---------------------------------------  26.0/26.1 MB 15.4 MB/s eta 0:00:01\n",
      "   ---------------------------------------- 26.1/26.1 MB 14.8 MB/s eta 0:00:00\n",
      "Downloading xxhash-3.5.0-cp313-cp313-win_amd64.whl (30 kB)\n",
      "Installing collected packages: xxhash, pyarrow, propcache, multidict, frozenlist, dill, aiohappyeyeballs, yarl, multiprocess, aiosignal, aiohttp, datasets\n",
      "\n",
      "   --- ------------------------------------  1/12 [pyarrow]\n",
      "   --- ------------------------------------  1/12 [pyarrow]\n",
      "   --- ------------------------------------  1/12 [pyarrow]\n",
      "   --- ------------------------------------  1/12 [pyarrow]\n",
      "   --- ------------------------------------  1/12 [pyarrow]\n",
      "   --- ------------------------------------  1/12 [pyarrow]\n",
      "   --- ------------------------------------  1/12 [pyarrow]\n",
      "   --- ------------------------------------  1/12 [pyarrow]\n",
      "   --- ------------------------------------  1/12 [pyarrow]\n",
      "   --- ------------------------------------  1/12 [pyarrow]\n",
      "   --- ------------------------------------  1/12 [pyarrow]\n",
      "   --- ------------------------------------  1/12 [pyarrow]\n",
      "   --- ------------------------------------  1/12 [pyarrow]\n",
      "   --- ------------------------------------  1/12 [pyarrow]\n",
      "   --- ------------------------------------  1/12 [pyarrow]\n",
      "   --- ------------------------------------  1/12 [pyarrow]\n",
      "   --- ------------------------------------  1/12 [pyarrow]\n",
      "   --- ------------------------------------  1/12 [pyarrow]\n",
      "   --- ------------------------------------  1/12 [pyarrow]\n",
      "   --- ------------------------------------  1/12 [pyarrow]\n",
      "   --- ------------------------------------  1/12 [pyarrow]\n",
      "   ------ ---------------------------------  2/12 [propcache]\n",
      "   ---------------- -----------------------  5/12 [dill]\n",
      "   ---------------- -----------------------  5/12 [dill]\n",
      "   ---------------- -----------------------  5/12 [dill]\n",
      "   ---------------- -----------------------  5/12 [dill]\n",
      "   -------------------- -------------------  6/12 [aiohappyeyeballs]\n",
      "   ----------------------- ----------------  7/12 [yarl]\n",
      "   -------------------------- -------------  8/12 [multiprocess]\n",
      "   -------------------------- -------------  8/12 [multiprocess]\n",
      "   -------------------------- -------------  8/12 [multiprocess]\n",
      "   -------------------------- -------------  8/12 [multiprocess]\n",
      "   -------------------------- -------------  8/12 [multiprocess]\n",
      "   --------------------------------- ------ 10/12 [aiohttp]\n",
      "   --------------------------------- ------ 10/12 [aiohttp]\n",
      "   --------------------------------- ------ 10/12 [aiohttp]\n",
      "   --------------------------------- ------ 10/12 [aiohttp]\n",
      "   --------------------------------- ------ 10/12 [aiohttp]\n",
      "   --------------------------------- ------ 10/12 [aiohttp]\n",
      "   --------------------------------- ------ 10/12 [aiohttp]\n",
      "   --------------------------------- ------ 10/12 [aiohttp]\n",
      "   ------------------------------------ --- 11/12 [datasets]\n",
      "   ------------------------------------ --- 11/12 [datasets]\n",
      "   ------------------------------------ --- 11/12 [datasets]\n",
      "   ------------------------------------ --- 11/12 [datasets]\n",
      "   ------------------------------------ --- 11/12 [datasets]\n",
      "   ------------------------------------ --- 11/12 [datasets]\n",
      "   ------------------------------------ --- 11/12 [datasets]\n",
      "   ------------------------------------ --- 11/12 [datasets]\n",
      "   ------------------------------------ --- 11/12 [datasets]\n",
      "   ------------------------------------ --- 11/12 [datasets]\n",
      "   ------------------------------------ --- 11/12 [datasets]\n",
      "   ------------------------------------ --- 11/12 [datasets]\n",
      "   ------------------------------------ --- 11/12 [datasets]\n",
      "   ------------------------------------ --- 11/12 [datasets]\n",
      "   ---------------------------------------- 12/12 [datasets]\n",
      "\n",
      "Successfully installed aiohappyeyeballs-2.6.1 aiohttp-3.12.15 aiosignal-1.4.0 datasets-4.0.0 dill-0.3.8 frozenlist-1.7.0 multidict-6.6.4 multiprocess-0.70.16 propcache-0.3.2 pyarrow-21.0.0 xxhash-3.5.0 yarl-1.20.1\n"
     ]
    },
    {
     "name": "stderr",
     "output_type": "stream",
     "text": [
      "\n",
      "[notice] A new release of pip is available: 25.1.1 -> 25.2\n",
      "[notice] To update, run: python.exe -m pip install --upgrade pip\n"
     ]
    }
   ],
   "source": [
    "!pip install transformers datasets"
   ]
  },
  {
   "cell_type": "code",
   "execution_count": 3,
   "metadata": {
    "colab": {
     "base_uri": "https://localhost:8080/"
    },
    "executionInfo": {
     "elapsed": 25729,
     "status": "ok",
     "timestamp": 1625398158764,
     "user": {
      "displayName": "Savas Yıldırım",
      "photoUrl": "https://lh3.googleusercontent.com/a-/AOh14GhdhYZMfq-hvK2xI7HqkzvJuCbfgFrIs4wypQEm5w=s64",
      "userId": "10717726124681851716"
     },
     "user_tz": -180
    },
    "id": "bixw-FrJ-6La",
    "outputId": "850fe9c3-dc21-4036-bcde-b1b0b5c43034"
   },
   "outputs": [],
   "source": [
    "import torch, os\n",
    "import pandas as pd\n",
    "import matplotlib.pyplot as plt\n",
    "from transformers import pipeline, DistilBertForSequenceClassification, DistilBertTokenizerFast\n",
    "from torch.utils.data import Dataset"
   ]
  },
  {
   "cell_type": "code",
   "execution_count": 2,
   "metadata": {
    "colab": {
     "base_uri": "https://localhost:8080/",
     "height": 35
    },
    "executionInfo": {
     "elapsed": 28,
     "status": "ok",
     "timestamp": 1625398170258,
     "user": {
      "displayName": "Savas Yıldırım",
      "photoUrl": "https://lh3.googleusercontent.com/a-/AOh14GhdhYZMfq-hvK2xI7HqkzvJuCbfgFrIs4wypQEm5w=s64",
      "userId": "10717726124681851716"
     },
     "user_tz": -180
    },
    "id": "x9RjPCc76GjE",
    "outputId": "2956b1e5-7d27-47b9-f70e-dd32944408bc"
   },
   "outputs": [
    {
     "data": {
      "text/plain": [
       "'cuda'"
      ]
     },
     "execution_count": 2,
     "metadata": {},
     "output_type": "execute_result"
    }
   ],
   "source": [
    "from torch import cuda\n",
    "device = 'cuda' if cuda.is_available() else 'cpu'\n",
    "device"
   ]
  },
  {
   "cell_type": "code",
   "execution_count": 4,
   "metadata": {},
   "outputs": [
    {
     "name": "stdout",
     "output_type": "stream",
     "text": [
      "🎮 GPU: NVIDIA GeForce GTX 1650\n",
      "💾 Memoria total: 4.0 GB\n",
      "📊 Memoria asignada: 0.0 GB (0.0%)\n",
      "🔒 Memoria reservada: 0.0 GB (0.0%)\n",
      "✅ Uso de memoria GPU dentro de límites normales\n"
     ]
    }
   ],
   "source": [
    "# Función para monitorear memoria GPU\n",
    "def check_gpu_memory():\n",
    "    if torch.cuda.is_available():\n",
    "        gpu_memory = torch.cuda.get_device_properties(0).total_memory / 1024**3  # GB\n",
    "        gpu_allocated = torch.cuda.memory_allocated(0) / 1024**3  # GB\n",
    "        gpu_reserved = torch.cuda.memory_reserved(0) / 1024**3  # GB\n",
    "        \n",
    "        print(f\"🎮 GPU: {torch.cuda.get_device_name(0)}\")\n",
    "        print(f\"💾 Memoria total: {gpu_memory:.1f} GB\")\n",
    "        print(f\"📊 Memoria asignada: {gpu_allocated:.1f} GB ({gpu_allocated/gpu_memory*100:.1f}%)\")\n",
    "        print(f\"🔒 Memoria reservada: {gpu_reserved:.1f} GB ({gpu_reserved/gpu_memory*100:.1f}%)\")\n",
    "        \n",
    "        if gpu_reserved > gpu_memory * 0.8:\n",
    "            print(\"⚠️  ADVERTENCIA: Uso alto de memoria GPU\")\n",
    "        else:\n",
    "            print(\"✅ Uso de memoria GPU dentro de límites normales\")\n",
    "    else:\n",
    "        print(\"❌ No hay GPU disponible - usando CPU\")\n",
    "\n",
    "check_gpu_memory()"
   ]
  },
  {
   "cell_type": "code",
   "execution_count": 5,
   "metadata": {
    "colab": {
     "base_uri": "https://localhost:8080/",
     "height": 204
    },
    "executionInfo": {
     "elapsed": 397,
     "status": "ok",
     "timestamp": 1625398175947,
     "user": {
      "displayName": "Savas Yıldırım",
      "photoUrl": "https://lh3.googleusercontent.com/a-/AOh14GhdhYZMfq-hvK2xI7HqkzvJuCbfgFrIs4wypQEm5w=s64",
      "userId": "10717726124681851716"
     },
     "user_tz": -180
    },
    "id": "XGvn9cWEtXcE",
    "outputId": "8ddd76d1-8416-481f-bad5-52a6d4bb0672"
   },
   "outputs": [
    {
     "name": "stdout",
     "output_type": "stream",
     "text": [
      "Dataset cargado: 4774 ejemplos\n",
      "Distribución de clases:\n",
      "category\n",
      "autenticidad        3152\n",
      "integridad           731\n",
      "responsabilidad      400\n",
      "resistencia          225\n",
      "confidencialidad     147\n",
      "no_repudio           119\n",
      "Name: count, dtype: int64\n"
     ]
    },
    {
     "data": {
      "text/html": [
       "<div>\n",
       "<style scoped>\n",
       "    .dataframe tbody tr th:only-of-type {\n",
       "        vertical-align: middle;\n",
       "    }\n",
       "\n",
       "    .dataframe tbody tr th {\n",
       "        vertical-align: top;\n",
       "    }\n",
       "\n",
       "    .dataframe thead th {\n",
       "        text-align: right;\n",
       "    }\n",
       "</style>\n",
       "<table border=\"1\" class=\"dataframe\">\n",
       "  <thead>\n",
       "    <tr style=\"text-align: right;\">\n",
       "      <th></th>\n",
       "      <th>id</th>\n",
       "      <th>text</th>\n",
       "      <th>category</th>\n",
       "    </tr>\n",
       "  </thead>\n",
       "  <tbody>\n",
       "    <tr>\n",
       "      <th>0</th>\n",
       "      <td>34</td>\n",
       "      <td>Nunca llega el tokken digital, no deja realiza...</td>\n",
       "      <td>autenticidad</td>\n",
       "    </tr>\n",
       "    <tr>\n",
       "      <th>1</th>\n",
       "      <td>556</td>\n",
       "      <td>pésimo servicio de que sirve que habiliten pli...</td>\n",
       "      <td>autenticidad</td>\n",
       "    </tr>\n",
       "    <tr>\n",
       "      <th>2</th>\n",
       "      <td>4693</td>\n",
       "      <td>Nunca tuve problemas con la app pero el celula...</td>\n",
       "      <td>autenticidad</td>\n",
       "    </tr>\n",
       "    <tr>\n",
       "      <th>3</th>\n",
       "      <td>3132</td>\n",
       "      <td>Pésima actualización, para activar el token di...</td>\n",
       "      <td>autenticidad</td>\n",
       "    </tr>\n",
       "    <tr>\n",
       "      <th>4</th>\n",
       "      <td>3922</td>\n",
       "      <td>Le doy 2 estrellas porque hay importes que no ...</td>\n",
       "      <td>integridad</td>\n",
       "    </tr>\n",
       "  </tbody>\n",
       "</table>\n",
       "</div>"
      ],
      "text/plain": [
       "     id                                               text      category\n",
       "0    34  Nunca llega el tokken digital, no deja realiza...  autenticidad\n",
       "1   556  pésimo servicio de que sirve que habiliten pli...  autenticidad\n",
       "2  4693  Nunca tuve problemas con la app pero el celula...  autenticidad\n",
       "3  3132  Pésima actualización, para activar el token di...  autenticidad\n",
       "4  3922  Le doy 2 estrellas porque hay importes que no ...    integridad"
      ]
     },
     "execution_count": 5,
     "metadata": {},
     "output_type": "execute_result"
    }
   ],
   "source": [
    "# Cargar el dataset de clasificaciones ISO 25010\n",
    "df_org = pd.read_csv(\"salida.csv\")\n",
    "\n",
    "# Renombrar columnas para que coincidan con el código original\n",
    "df_org = df_org.rename(columns={\n",
    "    'comentario': 'text',\n",
    "    'clasificacion_ISO_25010': 'category'\n",
    "})\n",
    "\n",
    "# Limpiar datos y quitar espacios en blanco\n",
    "df_org['category'] = df_org['category'].str.strip()\n",
    "df_org['text'] = df_org['text'].str.strip()\n",
    "\n",
    "# Filtrar filas con datos faltantes\n",
    "df_org = df_org.dropna(subset=['text', 'category'])\n",
    "\n",
    "# Mezclar el dataset\n",
    "df_org = df_org.sample(frac=1.0, random_state=42).reset_index(drop=True)\n",
    "\n",
    "print(f\"Dataset cargado: {len(df_org)} ejemplos\")\n",
    "print(f\"Distribución de clases:\")\n",
    "print(df_org['category'].value_counts())\n",
    "\n",
    "df_org.head()"
   ]
  },
  {
   "cell_type": "code",
   "execution_count": 6,
   "metadata": {},
   "outputs": [
    {
     "data": {
      "text/plain": [
       "['autenticidad',\n",
       " 'integridad',\n",
       " 'responsabilidad',\n",
       " 'resistencia',\n",
       " 'confidencialidad',\n",
       " 'no_repudio']"
      ]
     },
     "execution_count": 6,
     "metadata": {},
     "output_type": "execute_result"
    }
   ],
   "source": [
    "labels = df_org['category'].unique().tolist()\n",
    "labels = [s.strip() for s in labels ]\n",
    "labels"
   ]
  },
  {
   "attachments": {},
   "cell_type": "markdown",
   "metadata": {},
   "source": [
    "\n",
    "## Why we need id2label and labe2ids in NLP Projects\n",
    "\n",
    "In NLP tasks, especially those involving classification problems, id2label and label2id dictionaries are used to map class labels (categories) to integer IDs and vice versa. These mappings are essential for various stages of the NLP pipeline, such as data preprocessing, model training, and evaluation.\n",
    "\n",
    "Data preprocessing: In order to feed text data into an NLP model, the text must first be tokenized and then converted into numerical values. Similarly, class labels must also be transformed into numerical representations. The label2id dictionary helps in converting the original class labels into integer IDs.\n",
    "\n",
    "Model training: NLP models usually output probability distributions over classes as their predictions. During training, the model's predictions are compared against the ground truth labels (which have been converted to integer IDs) to compute the loss and optimize the model parameters.\n",
    "\n",
    "Model evaluation and interpretation: Once the model has been trained, its predictions (in the form of integer IDs) need to be mapped back to their original class labels to make the results interpretable. The id2label dictionary is used to perform this conversion.\n",
    "\n",
    "\n",
    "For `BertForSequenceClassification` model as well I need these exact mapping of id2labels and labels2id in dictionary form.\n",
    "\n",
    "### Hence, fefore you start training your model, create a map of the expected ids to their labels with id2label and label2id:"
   ]
  },
  {
   "cell_type": "code",
   "execution_count": 7,
   "metadata": {},
   "outputs": [
    {
     "name": "stdout",
     "output_type": "stream",
     "text": [
      "autenticidad\n",
      "integridad\n",
      "responsabilidad\n",
      "resistencia\n",
      "confidencialidad\n",
      "no_repudio\n"
     ]
    }
   ],
   "source": [
    "for key, value in enumerate(labels):\n",
    "    print(value)"
   ]
  },
  {
   "cell_type": "code",
   "execution_count": 8,
   "metadata": {
    "executionInfo": {
     "elapsed": 4,
     "status": "ok",
     "timestamp": 1625398177852,
     "user": {
      "displayName": "Savas Yıldırım",
      "photoUrl": "https://lh3.googleusercontent.com/a-/AOh14GhdhYZMfq-hvK2xI7HqkzvJuCbfgFrIs4wypQEm5w=s64",
      "userId": "10717726124681851716"
     },
     "user_tz": -180
    },
    "id": "5jyOH3YGvyYW"
   },
   "outputs": [],
   "source": [
    "NUM_LABELS= len(labels)\n",
    "\n",
    "id2label={id:label for id,label in enumerate(labels)}\n",
    "\n",
    "label2id={label:id for id,label in enumerate(labels)}"
   ]
  },
  {
   "cell_type": "code",
   "execution_count": 8,
   "metadata": {
    "colab": {
     "base_uri": "https://localhost:8080/"
    },
    "executionInfo": {
     "elapsed": 4,
     "status": "ok",
     "timestamp": 1625398179284,
     "user": {
      "displayName": "Savas Yıldırım",
      "photoUrl": "https://lh3.googleusercontent.com/a-/AOh14GhdhYZMfq-hvK2xI7HqkzvJuCbfgFrIs4wypQEm5w=s64",
      "userId": "10717726124681851716"
     },
     "user_tz": -180
    },
    "id": "MQ6iJXbFn86y",
    "outputId": "51bcfc45-6c5e-4f88-a971-ac34e7b6d2bd"
   },
   "outputs": [
    {
     "data": {
      "text/plain": [
       "{'autenticidad': 0,\n",
       " 'integridad': 1,\n",
       " 'responsabilidad': 2,\n",
       " 'resistencia': 3,\n",
       " 'confidencialidad': 4,\n",
       " 'no_repudio': 5}"
      ]
     },
     "execution_count": 8,
     "metadata": {},
     "output_type": "execute_result"
    }
   ],
   "source": [
    "label2id"
   ]
  },
  {
   "cell_type": "code",
   "execution_count": 9,
   "metadata": {
    "executionInfo": {
     "elapsed": 395,
     "status": "ok",
     "timestamp": 1625398182914,
     "user": {
      "displayName": "Savas Yıldırım",
      "photoUrl": "https://lh3.googleusercontent.com/a-/AOh14GhdhYZMfq-hvK2xI7HqkzvJuCbfgFrIs4wypQEm5w=s64",
      "userId": "10717726124681851716"
     },
     "user_tz": -180
    },
    "id": "EJYWAXVovqOQ"
   },
   "outputs": [
    {
     "data": {
      "text/plain": [
       "{0: 'autenticidad',\n",
       " 1: 'integridad',\n",
       " 2: 'responsabilidad',\n",
       " 3: 'resistencia',\n",
       " 4: 'confidencialidad',\n",
       " 5: 'no_repudio'}"
      ]
     },
     "execution_count": 9,
     "metadata": {},
     "output_type": "execute_result"
    }
   ],
   "source": [
    "id2label"
   ]
  },
  {
   "cell_type": "code",
   "execution_count": 10,
   "metadata": {},
   "outputs": [
    {
     "data": {
      "text/html": [
       "<div>\n",
       "<style scoped>\n",
       "    .dataframe tbody tr th:only-of-type {\n",
       "        vertical-align: middle;\n",
       "    }\n",
       "\n",
       "    .dataframe tbody tr th {\n",
       "        vertical-align: top;\n",
       "    }\n",
       "\n",
       "    .dataframe thead th {\n",
       "        text-align: right;\n",
       "    }\n",
       "</style>\n",
       "<table border=\"1\" class=\"dataframe\">\n",
       "  <thead>\n",
       "    <tr style=\"text-align: right;\">\n",
       "      <th></th>\n",
       "      <th>id</th>\n",
       "      <th>text</th>\n",
       "      <th>category</th>\n",
       "    </tr>\n",
       "  </thead>\n",
       "  <tbody>\n",
       "    <tr>\n",
       "      <th>0</th>\n",
       "      <td>34</td>\n",
       "      <td>Nunca llega el tokken digital, no deja realiza...</td>\n",
       "      <td>autenticidad</td>\n",
       "    </tr>\n",
       "    <tr>\n",
       "      <th>1</th>\n",
       "      <td>556</td>\n",
       "      <td>pésimo servicio de que sirve que habiliten pli...</td>\n",
       "      <td>autenticidad</td>\n",
       "    </tr>\n",
       "    <tr>\n",
       "      <th>2</th>\n",
       "      <td>4693</td>\n",
       "      <td>Nunca tuve problemas con la app pero el celula...</td>\n",
       "      <td>autenticidad</td>\n",
       "    </tr>\n",
       "    <tr>\n",
       "      <th>3</th>\n",
       "      <td>3132</td>\n",
       "      <td>Pésima actualización, para activar el token di...</td>\n",
       "      <td>autenticidad</td>\n",
       "    </tr>\n",
       "    <tr>\n",
       "      <th>4</th>\n",
       "      <td>3922</td>\n",
       "      <td>Le doy 2 estrellas porque hay importes que no ...</td>\n",
       "      <td>integridad</td>\n",
       "    </tr>\n",
       "  </tbody>\n",
       "</table>\n",
       "</div>"
      ],
      "text/plain": [
       "     id                                               text      category\n",
       "0    34  Nunca llega el tokken digital, no deja realiza...  autenticidad\n",
       "1   556  pésimo servicio de que sirve que habiliten pli...  autenticidad\n",
       "2  4693  Nunca tuve problemas con la app pero el celula...  autenticidad\n",
       "3  3132  Pésima actualización, para activar el token di...  autenticidad\n",
       "4  3922  Le doy 2 estrellas porque hay importes que no ...    integridad"
      ]
     },
     "execution_count": 10,
     "metadata": {},
     "output_type": "execute_result"
    }
   ],
   "source": [
    "df_org.head()"
   ]
  },
  {
   "attachments": {},
   "cell_type": "markdown",
   "metadata": {},
   "source": [
    "### Create a new column to represent the categories in numerical form\n",
    "\n",
    "I need a 'label' column heading with numeric value else while running the epochs with `trainer.train()` I will get below error\n",
    "\n",
    "```\n",
    "BertForSequenceClassification ValueError: The model did not return \n",
    "\n",
    "```\n",
    "\n",
    "\n",
    "### In below I am doing it manually, but I could have also done it with pd.factorize() as below\n",
    "\n",
    "Pandas factorize method is used for encoding categorical variables as integers. It assigns a unique integer value to each distinct category in a given Series or DataFrame, effectively transforming non-numeric data into numeric values."
   ]
  },
  {
   "cell_type": "code",
   "execution_count": 15,
   "metadata": {},
   "outputs": [],
   "source": [
    "# df_org['labels_num'] = pd.factorize(df_org.category)[0]\n",
    "# df_org.head()"
   ]
  },
  {
   "cell_type": "code",
   "execution_count": 11,
   "metadata": {
    "executionInfo": {
     "elapsed": 8,
     "status": "ok",
     "timestamp": 1625398182915,
     "user": {
      "displayName": "Savas Yıldırım",
      "photoUrl": "https://lh3.googleusercontent.com/a-/AOh14GhdhYZMfq-hvK2xI7HqkzvJuCbfgFrIs4wypQEm5w=s64",
      "userId": "10717726124681851716"
     },
     "user_tz": -180
    },
    "id": "HbdFN3VZoawV"
   },
   "outputs": [],
   "source": [
    "df_org[\"labels\"]=df_org.category.map(lambda x: label2id[x.strip()])"
   ]
  },
  {
   "cell_type": "code",
   "execution_count": 12,
   "metadata": {
    "colab": {
     "base_uri": "https://localhost:8080/",
     "height": 204
    },
    "executionInfo": {
     "elapsed": 6,
     "status": "ok",
     "timestamp": 1625398183337,
     "user": {
      "displayName": "Savas Yıldırım",
      "photoUrl": "https://lh3.googleusercontent.com/a-/AOh14GhdhYZMfq-hvK2xI7HqkzvJuCbfgFrIs4wypQEm5w=s64",
      "userId": "10717726124681851716"
     },
     "user_tz": -180
    },
    "id": "KGAcx7nqwJgm",
    "outputId": "5836de30-de03-480c-8db3-2ab403ac142f"
   },
   "outputs": [
    {
     "data": {
      "text/html": [
       "<div>\n",
       "<style scoped>\n",
       "    .dataframe tbody tr th:only-of-type {\n",
       "        vertical-align: middle;\n",
       "    }\n",
       "\n",
       "    .dataframe tbody tr th {\n",
       "        vertical-align: top;\n",
       "    }\n",
       "\n",
       "    .dataframe thead th {\n",
       "        text-align: right;\n",
       "    }\n",
       "</style>\n",
       "<table border=\"1\" class=\"dataframe\">\n",
       "  <thead>\n",
       "    <tr style=\"text-align: right;\">\n",
       "      <th></th>\n",
       "      <th>id</th>\n",
       "      <th>text</th>\n",
       "      <th>category</th>\n",
       "      <th>labels</th>\n",
       "    </tr>\n",
       "  </thead>\n",
       "  <tbody>\n",
       "    <tr>\n",
       "      <th>0</th>\n",
       "      <td>34</td>\n",
       "      <td>Nunca llega el tokken digital, no deja realiza...</td>\n",
       "      <td>autenticidad</td>\n",
       "      <td>0</td>\n",
       "    </tr>\n",
       "    <tr>\n",
       "      <th>1</th>\n",
       "      <td>556</td>\n",
       "      <td>pésimo servicio de que sirve que habiliten pli...</td>\n",
       "      <td>autenticidad</td>\n",
       "      <td>0</td>\n",
       "    </tr>\n",
       "    <tr>\n",
       "      <th>2</th>\n",
       "      <td>4693</td>\n",
       "      <td>Nunca tuve problemas con la app pero el celula...</td>\n",
       "      <td>autenticidad</td>\n",
       "      <td>0</td>\n",
       "    </tr>\n",
       "    <tr>\n",
       "      <th>3</th>\n",
       "      <td>3132</td>\n",
       "      <td>Pésima actualización, para activar el token di...</td>\n",
       "      <td>autenticidad</td>\n",
       "      <td>0</td>\n",
       "    </tr>\n",
       "    <tr>\n",
       "      <th>4</th>\n",
       "      <td>3922</td>\n",
       "      <td>Le doy 2 estrellas porque hay importes que no ...</td>\n",
       "      <td>integridad</td>\n",
       "      <td>1</td>\n",
       "    </tr>\n",
       "  </tbody>\n",
       "</table>\n",
       "</div>"
      ],
      "text/plain": [
       "     id                                               text      category  \\\n",
       "0    34  Nunca llega el tokken digital, no deja realiza...  autenticidad   \n",
       "1   556  pésimo servicio de que sirve que habiliten pli...  autenticidad   \n",
       "2  4693  Nunca tuve problemas con la app pero el celula...  autenticidad   \n",
       "3  3132  Pésima actualización, para activar el token di...  autenticidad   \n",
       "4  3922  Le doy 2 estrellas porque hay importes que no ...    integridad   \n",
       "\n",
       "   labels  \n",
       "0       0  \n",
       "1       0  \n",
       "2       0  \n",
       "3       0  \n",
       "4       1  "
      ]
     },
     "execution_count": 12,
     "metadata": {},
     "output_type": "execute_result"
    }
   ],
   "source": [
    "df_org.head()"
   ]
  },
  {
   "cell_type": "code",
   "execution_count": 13,
   "metadata": {
    "colab": {
     "base_uri": "https://localhost:8080/",
     "height": 483
    },
    "executionInfo": {
     "elapsed": 712,
     "status": "ok",
     "timestamp": 1625398187147,
     "user": {
      "displayName": "Savas Yıldırım",
      "photoUrl": "https://lh3.googleusercontent.com/a-/AOh14GhdhYZMfq-hvK2xI7HqkzvJuCbfgFrIs4wypQEm5w=s64",
      "userId": "10717726124681851716"
     },
     "user_tz": -180
    },
    "id": "zeNYOXNBGe1B",
    "outputId": "68de8dcd-b392-4915-e5c4-5d21f5004958"
   },
   "outputs": [
    {
     "data": {
      "image/png": "[encoded data removed]",
      "text/plain": [
       "<Figure size 1200x800 with 2 Axes>"
      ]
     },
     "metadata": {},
     "output_type": "display_data"
    },
    {
     "name": "stdout",
     "output_type": "stream",
     "text": [
      "\n",
      "Resumen del dataset:\n",
      "Total de comentarios: 4,774\n",
      "Clases balanceadas: ❌ No\n",
      "Clase más frecuente: autenticidad (3,152 ejemplos)\n",
      "Clase menos frecuente: no_repudio (119 ejemplos)\n"
     ]
    }
   ],
   "source": [
    "# Visualizar distribución de clases ISO 25010\n",
    "plt.figure(figsize=(12, 8))\n",
    "class_counts = df_org.category.value_counts()\n",
    "\n",
    "# Gráfico de barras\n",
    "plt.subplot(2, 1, 1)\n",
    "class_counts.plot(kind='bar', color='skyblue', alpha=0.8)\n",
    "plt.title('Distribución de Clases ISO 25010', fontsize=14, fontweight='bold')\n",
    "plt.xlabel('Características de Seguridad ISO 25010')\n",
    "plt.ylabel('Número de Comentarios')\n",
    "plt.xticks(rotation=45, ha='right')\n",
    "plt.grid(axis='y', alpha=0.3)\n",
    "\n",
    "# Mostrar valores en las barras\n",
    "for i, v in enumerate(class_counts.values):\n",
    "    plt.text(i, v + 20, str(v), ha='center', va='bottom', fontweight='bold')\n",
    "\n",
    "# Gráfico de pastel\n",
    "plt.subplot(2, 1, 2)\n",
    "class_counts.plot(kind='pie', autopct='%1.1f%%', startangle=90, colors=plt.cm.Set3.colors)\n",
    "plt.title('Proporción de Clases ISO 25010', fontsize=14, fontweight='bold')\n",
    "plt.ylabel('')\n",
    "\n",
    "plt.tight_layout()\n",
    "plt.show()\n",
    "\n",
    "print(f\"\\nResumen del dataset:\")\n",
    "print(f\"Total de comentarios: {len(df_org):,}\")\n",
    "print(f\"Clases balanceadas: {'✅ Sí' if class_counts.std() < class_counts.mean() else '❌ No'}\")\n",
    "print(f\"Clase más frecuente: {class_counts.index[0]} ({class_counts.iloc[0]:,} ejemplos)\")\n",
    "print(f\"Clase menos frecuente: {class_counts.index[-1]} ({class_counts.iloc[-1]:,} ejemplos)\")"
   ]
  },
  {
   "cell_type": "code",
   "execution_count": 14,
   "metadata": {
    "colab": {
     "base_uri": "https://localhost:8080/",
     "height": 115,
     "referenced_widgets": [
      "21fbbe9bd6d94f308668ac1e4c2a51d0",
      "f391632fced34067a6bc7f76034d8d38",
      "d9bad87a40624bbe9a7b8e5021b6b878",
      "6f869fe141f847a881532c74c5d8b269",
      "35a5b5e6ff374b6a80e8677d695a5409",
      "bed0bf19829f4957985091c7f308190c",
      "43a1a07853414f1fbd41c1d7a7e2a7fd",
      "66f31b78d9974a51bd28e01d073b72a7",
      "8ed902a5a04e4bdaac8f961afe52b622",
      "95a51d9d15734391a3895ac76b7a3676",
      "395f10a793684087b6e3747154e17f8d",
      "c905e0961cf84af2bec6a29ddc0d4237",
      "b3652deb88d94a3e91bc0fa58b9dce54",
      "94930151f87e495b974a7f40de2b1db4",
      "4e66a8a8057e4232a3881aef3ac3afa9",
      "a098193923044bfc89afdfa4faf8cc25"
     ]
    },
    "executionInfo": {
     "elapsed": 2705,
     "status": "ok",
     "timestamp": 1625398193149,
     "user": {
      "displayName": "Savas Yıldırım",
      "photoUrl": "https://lh3.googleusercontent.com/a-/AOh14GhdhYZMfq-hvK2xI7HqkzvJuCbfgFrIs4wypQEm5w=s64",
      "userId": "10717726124681851716"
     },
     "user_tz": -180
    },
    "id": "r80yPEvU79rx",
    "outputId": "542fee56-a4bc-44c4-814e-8dd3c29eeb7f"
   },
   "outputs": [
    {
     "name": "stderr",
     "output_type": "stream",
     "text": [
      "The tokenizer class you load from this checkpoint is not the same type as the class this function is called from. It may result in unexpected tokenization. \n",
      "The tokenizer class you load from this checkpoint is 'BertTokenizer'. \n",
      "The class this function is called from is 'DistilBertTokenizerFast'.\n"
     ]
    },
    {
     "name": "stdout",
     "output_type": "stream",
     "text": [
      "Tokenizer cargado: dccuchile/bert-base-spanish-wwm-uncased\n"
     ]
    }
   ],
   "source": [
    "# Usar DistilBERT en español (más ligero para tu GPU)\n",
    "model_name = \"dccuchile/bert-base-spanish-wwm-uncased\"\n",
    "# Alternativa: \"distilbert-base-multilingual-cased\" si prefieres DistilBERT puro\n",
    "\n",
    "tokenizer = DistilBertTokenizerFast.from_pretrained(model_name, max_length=512)\n",
    "\n",
    "print(f\"Tokenizer cargado: {model_name}\")"
   ]
  },
  {
   "cell_type": "code",
   "execution_count": 15,
   "metadata": {
    "colab": {
     "base_uri": "https://localhost:8080/",
     "height": 1000,
     "referenced_widgets": [
      "eda88132d04243bcb499af9e82a789ba",
      "b9f606782e924fdd9a22ee6039ef76f2",
      "ce256db990954d9f9782eae9a248b40b",
      "4557e0d687a44a8ab109109094f3ebd6",
      "5db915425bac4d9caba753797e9faf29",
      "6613484a4d0c477fb4ec5a3d4da81a73",
      "d391715c96a84d078976a10fab20265a",
      "0479af3dea114a4b86c98cd104325344",
      "f8532b3abd7e4243a8fb0ade8e0540e7",
      "1886bd7f86534fcea494bef48439e7db",
      "85c4358f5a6e411fbff53e3dfe3eb88d",
      "cfe8a0c3575a49b6b298262ed7acf76d",
      "4622af58d24f4eea8f67f49364118ccd",
      "b42f5e933f494ea69f3dbaac391b5e23",
      "f92aca32755f45c3ba2b8cab79d44eed",
      "dd7628d863794892b9b1fdd7c5e5df42"
     ]
    },
    "executionInfo": {
     "elapsed": 17953,
     "status": "ok",
     "timestamp": 1625398216241,
     "user": {
      "displayName": "Savas Yıldırım",
      "photoUrl": "https://lh3.googleusercontent.com/a-/AOh14GhdhYZMfq-hvK2xI7HqkzvJuCbfgFrIs4wypQEm5w=s64",
      "userId": "10717726124681851716"
     },
     "user_tz": -180
    },
    "id": "L7mT5FEU2Jyr",
    "outputId": "b9133277-8b83-47f4-83ee-bdaa1ac55a3f"
   },
   "outputs": [
    {
     "name": "stderr",
     "output_type": "stream",
     "text": [
      "You are using a model of type bert to instantiate a model of type distilbert. This is not supported for all configurations of models and can yield errors.\n",
      "Some weights of DistilBertForSequenceClassification were not initialized from the model checkpoint at dccuchile/bert-base-spanish-wwm-uncased and are newly initialized: ['classifier.bias', 'classifier.weight', 'embeddings.LayerNorm.bias', 'embeddings.LayerNorm.weight', 'embeddings.position_embeddings.weight', 'embeddings.word_embeddings.weight', 'pre_classifier.bias', 'pre_classifier.weight', 'transformer.layer.0.attention.k_lin.bias', 'transformer.layer.0.attention.k_lin.weight', 'transformer.layer.0.attention.out_lin.bias', 'transformer.layer.0.attention.out_lin.weight', 'transformer.layer.0.attention.q_lin.bias', 'transformer.layer.0.attention.q_lin.weight', 'transformer.layer.0.attention.v_lin.bias', 'transformer.layer.0.attention.v_lin.weight', 'transformer.layer.0.ffn.lin1.bias', 'transformer.layer.0.ffn.lin1.weight', 'transformer.layer.0.ffn.lin2.bias', 'transformer.layer.0.ffn.lin2.weight', 'transformer.layer.0.output_layer_norm.bias', 'transformer.layer.0.output_layer_norm.weight', 'transformer.layer.0.sa_layer_norm.bias', 'transformer.layer.0.sa_layer_norm.weight', 'transformer.layer.1.attention.k_lin.bias', 'transformer.layer.1.attention.k_lin.weight', 'transformer.layer.1.attention.out_lin.bias', 'transformer.layer.1.attention.out_lin.weight', 'transformer.layer.1.attention.q_lin.bias', 'transformer.layer.1.attention.q_lin.weight', 'transformer.layer.1.attention.v_lin.bias', 'transformer.layer.1.attention.v_lin.weight', 'transformer.layer.1.ffn.lin1.bias', 'transformer.layer.1.ffn.lin1.weight', 'transformer.layer.1.ffn.lin2.bias', 'transformer.layer.1.ffn.lin2.weight', 'transformer.layer.1.output_layer_norm.bias', 'transformer.layer.1.output_layer_norm.weight', 'transformer.layer.1.sa_layer_norm.bias', 'transformer.layer.1.sa_layer_norm.weight', 'transformer.layer.10.attention.k_lin.bias', 'transformer.layer.10.attention.k_lin.weight', 'transformer.layer.10.attention.out_lin.bias', 'transformer.layer.10.attention.out_lin.weight', 'transformer.layer.10.attention.q_lin.bias', 'transformer.layer.10.attention.q_lin.weight', 'transformer.layer.10.attention.v_lin.bias', 'transformer.layer.10.attention.v_lin.weight', 'transformer.layer.10.ffn.lin1.bias', 'transformer.layer.10.ffn.lin1.weight', 'transformer.layer.10.ffn.lin2.bias', 'transformer.layer.10.ffn.lin2.weight', 'transformer.layer.10.output_layer_norm.bias', 'transformer.layer.10.output_layer_norm.weight', 'transformer.layer.10.sa_layer_norm.bias', 'transformer.layer.10.sa_layer_norm.weight', 'transformer.layer.11.attention.k_lin.bias', 'transformer.layer.11.attention.k_lin.weight', 'transformer.layer.11.attention.out_lin.bias', 'transformer.layer.11.attention.out_lin.weight', 'transformer.layer.11.attention.q_lin.bias', 'transformer.layer.11.attention.q_lin.weight', 'transformer.layer.11.attention.v_lin.bias', 'transformer.layer.11.attention.v_lin.weight', 'transformer.layer.11.ffn.lin1.bias', 'transformer.layer.11.ffn.lin1.weight', 'transformer.layer.11.ffn.lin2.bias', 'transformer.layer.11.ffn.lin2.weight', 'transformer.layer.11.output_layer_norm.bias', 'transformer.layer.11.output_layer_norm.weight', 'transformer.layer.11.sa_layer_norm.bias', 'transformer.layer.11.sa_layer_norm.weight', 'transformer.layer.2.attention.k_lin.bias', 'transformer.layer.2.attention.k_lin.weight', 'transformer.layer.2.attention.out_lin.bias', 'transformer.layer.2.attention.out_lin.weight', 'transformer.layer.2.attention.q_lin.bias', 'transformer.layer.2.attention.q_lin.weight', 'transformer.layer.2.attention.v_lin.bias', 'transformer.layer.2.attention.v_lin.weight', 'transformer.layer.2.ffn.lin1.bias', 'transformer.layer.2.ffn.lin1.weight', 'transformer.layer.2.ffn.lin2.bias', 'transformer.layer.2.ffn.lin2.weight', 'transformer.layer.2.output_layer_norm.bias', 'transformer.layer.2.output_layer_norm.weight', 'transformer.layer.2.sa_layer_norm.bias', 'transformer.layer.2.sa_layer_norm.weight', 'transformer.layer.3.attention.k_lin.bias', 'transformer.layer.3.attention.k_lin.weight', 'transformer.layer.3.attention.out_lin.bias', 'transformer.layer.3.attention.out_lin.weight', 'transformer.layer.3.attention.q_lin.bias', 'transformer.layer.3.attention.q_lin.weight', 'transformer.layer.3.attention.v_lin.bias', 'transformer.layer.3.attention.v_lin.weight', 'transformer.layer.3.ffn.lin1.bias', 'transformer.layer.3.ffn.lin1.weight', 'transformer.layer.3.ffn.lin2.bias', 'transformer.layer.3.ffn.lin2.weight', 'transformer.layer.3.output_layer_norm.bias', 'transformer.layer.3.output_layer_norm.weight', 'transformer.layer.3.sa_layer_norm.bias', 'transformer.layer.3.sa_layer_norm.weight', 'transformer.layer.4.attention.k_lin.bias', 'transformer.layer.4.attention.k_lin.weight', 'transformer.layer.4.attention.out_lin.bias', 'transformer.layer.4.attention.out_lin.weight', 'transformer.layer.4.attention.q_lin.bias', 'transformer.layer.4.attention.q_lin.weight', 'transformer.layer.4.attention.v_lin.bias', 'transformer.layer.4.attention.v_lin.weight', 'transformer.layer.4.ffn.lin1.bias', 'transformer.layer.4.ffn.lin1.weight', 'transformer.layer.4.ffn.lin2.bias', 'transformer.layer.4.ffn.lin2.weight', 'transformer.layer.4.output_layer_norm.bias', 'transformer.layer.4.output_layer_norm.weight', 'transformer.layer.4.sa_layer_norm.bias', 'transformer.layer.4.sa_layer_norm.weight', 'transformer.layer.5.attention.k_lin.bias', 'transformer.layer.5.attention.k_lin.weight', 'transformer.layer.5.attention.out_lin.bias', 'transformer.layer.5.attention.out_lin.weight', 'transformer.layer.5.attention.q_lin.bias', 'transformer.layer.5.attention.q_lin.weight', 'transformer.layer.5.attention.v_lin.bias', 'transformer.layer.5.attention.v_lin.weight', 'transformer.layer.5.ffn.lin1.bias', 'transformer.layer.5.ffn.lin1.weight', 'transformer.layer.5.ffn.lin2.bias', 'transformer.layer.5.ffn.lin2.weight', 'transformer.layer.5.output_layer_norm.bias', 'transformer.layer.5.output_layer_norm.weight', 'transformer.layer.5.sa_layer_norm.bias', 'transformer.layer.5.sa_layer_norm.weight', 'transformer.layer.6.attention.k_lin.bias', 'transformer.layer.6.attention.k_lin.weight', 'transformer.layer.6.attention.out_lin.bias', 'transformer.layer.6.attention.out_lin.weight', 'transformer.layer.6.attention.q_lin.bias', 'transformer.layer.6.attention.q_lin.weight', 'transformer.layer.6.attention.v_lin.bias', 'transformer.layer.6.attention.v_lin.weight', 'transformer.layer.6.ffn.lin1.bias', 'transformer.layer.6.ffn.lin1.weight', 'transformer.layer.6.ffn.lin2.bias', 'transformer.layer.6.ffn.lin2.weight', 'transformer.layer.6.output_layer_norm.bias', 'transformer.layer.6.output_layer_norm.weight', 'transformer.layer.6.sa_layer_norm.bias', 'transformer.layer.6.sa_layer_norm.weight', 'transformer.layer.7.attention.k_lin.bias', 'transformer.layer.7.attention.k_lin.weight', 'transformer.layer.7.attention.out_lin.bias', 'transformer.layer.7.attention.out_lin.weight', 'transformer.layer.7.attention.q_lin.bias', 'transformer.layer.7.attention.q_lin.weight', 'transformer.layer.7.attention.v_lin.bias', 'transformer.layer.7.attention.v_lin.weight', 'transformer.layer.7.ffn.lin1.bias', 'transformer.layer.7.ffn.lin1.weight', 'transformer.layer.7.ffn.lin2.bias', 'transformer.layer.7.ffn.lin2.weight', 'transformer.layer.7.output_layer_norm.bias', 'transformer.layer.7.output_layer_norm.weight', 'transformer.layer.7.sa_layer_norm.bias', 'transformer.layer.7.sa_layer_norm.weight', 'transformer.layer.8.attention.k_lin.bias', 'transformer.layer.8.attention.k_lin.weight', 'transformer.layer.8.attention.out_lin.bias', 'transformer.layer.8.attention.out_lin.weight', 'transformer.layer.8.attention.q_lin.bias', 'transformer.layer.8.attention.q_lin.weight', 'transformer.layer.8.attention.v_lin.bias', 'transformer.layer.8.attention.v_lin.weight', 'transformer.layer.8.ffn.lin1.bias', 'transformer.layer.8.ffn.lin1.weight', 'transformer.layer.8.ffn.lin2.bias', 'transformer.layer.8.ffn.lin2.weight', 'transformer.layer.8.output_layer_norm.bias', 'transformer.layer.8.output_layer_norm.weight', 'transformer.layer.8.sa_layer_norm.bias', 'transformer.layer.8.sa_layer_norm.weight', 'transformer.layer.9.attention.k_lin.bias', 'transformer.layer.9.attention.k_lin.weight', 'transformer.layer.9.attention.out_lin.bias', 'transformer.layer.9.attention.out_lin.weight', 'transformer.layer.9.attention.q_lin.bias', 'transformer.layer.9.attention.q_lin.weight', 'transformer.layer.9.attention.v_lin.bias', 'transformer.layer.9.attention.v_lin.weight', 'transformer.layer.9.ffn.lin1.bias', 'transformer.layer.9.ffn.lin1.weight', 'transformer.layer.9.ffn.lin2.bias', 'transformer.layer.9.ffn.lin2.weight', 'transformer.layer.9.output_layer_norm.bias', 'transformer.layer.9.output_layer_norm.weight', 'transformer.layer.9.sa_layer_norm.bias', 'transformer.layer.9.sa_layer_norm.weight']\n",
      "You should probably TRAIN this model on a down-stream task to be able to use it for predictions and inference.\n",
      "Some weights of DistilBertForSequenceClassification were not initialized from the model checkpoint at dccuchile/bert-base-spanish-wwm-uncased and are newly initialized: ['classifier.bias', 'classifier.weight', 'embeddings.LayerNorm.bias', 'embeddings.LayerNorm.weight', 'embeddings.position_embeddings.weight', 'embeddings.word_embeddings.weight', 'pre_classifier.bias', 'pre_classifier.weight', 'transformer.layer.0.attention.k_lin.bias', 'transformer.layer.0.attention.k_lin.weight', 'transformer.layer.0.attention.out_lin.bias', 'transformer.layer.0.attention.out_lin.weight', 'transformer.layer.0.attention.q_lin.bias', 'transformer.layer.0.attention.q_lin.weight', 'transformer.layer.0.attention.v_lin.bias', 'transformer.layer.0.attention.v_lin.weight', 'transformer.layer.0.ffn.lin1.bias', 'transformer.layer.0.ffn.lin1.weight', 'transformer.layer.0.ffn.lin2.bias', 'transformer.layer.0.ffn.lin2.weight', 'transformer.layer.0.output_layer_norm.bias', 'transformer.layer.0.output_layer_norm.weight', 'transformer.layer.0.sa_layer_norm.bias', 'transformer.layer.0.sa_layer_norm.weight', 'transformer.layer.1.attention.k_lin.bias', 'transformer.layer.1.attention.k_lin.weight', 'transformer.layer.1.attention.out_lin.bias', 'transformer.layer.1.attention.out_lin.weight', 'transformer.layer.1.attention.q_lin.bias', 'transformer.layer.1.attention.q_lin.weight', 'transformer.layer.1.attention.v_lin.bias', 'transformer.layer.1.attention.v_lin.weight', 'transformer.layer.1.ffn.lin1.bias', 'transformer.layer.1.ffn.lin1.weight', 'transformer.layer.1.ffn.lin2.bias', 'transformer.layer.1.ffn.lin2.weight', 'transformer.layer.1.output_layer_norm.bias', 'transformer.layer.1.output_layer_norm.weight', 'transformer.layer.1.sa_layer_norm.bias', 'transformer.layer.1.sa_layer_norm.weight', 'transformer.layer.10.attention.k_lin.bias', 'transformer.layer.10.attention.k_lin.weight', 'transformer.layer.10.attention.out_lin.bias', 'transformer.layer.10.attention.out_lin.weight', 'transformer.layer.10.attention.q_lin.bias', 'transformer.layer.10.attention.q_lin.weight', 'transformer.layer.10.attention.v_lin.bias', 'transformer.layer.10.attention.v_lin.weight', 'transformer.layer.10.ffn.lin1.bias', 'transformer.layer.10.ffn.lin1.weight', 'transformer.layer.10.ffn.lin2.bias', 'transformer.layer.10.ffn.lin2.weight', 'transformer.layer.10.output_layer_norm.bias', 'transformer.layer.10.output_layer_norm.weight', 'transformer.layer.10.sa_layer_norm.bias', 'transformer.layer.10.sa_layer_norm.weight', 'transformer.layer.11.attention.k_lin.bias', 'transformer.layer.11.attention.k_lin.weight', 'transformer.layer.11.attention.out_lin.bias', 'transformer.layer.11.attention.out_lin.weight', 'transformer.layer.11.attention.q_lin.bias', 'transformer.layer.11.attention.q_lin.weight', 'transformer.layer.11.attention.v_lin.bias', 'transformer.layer.11.attention.v_lin.weight', 'transformer.layer.11.ffn.lin1.bias', 'transformer.layer.11.ffn.lin1.weight', 'transformer.layer.11.ffn.lin2.bias', 'transformer.layer.11.ffn.lin2.weight', 'transformer.layer.11.output_layer_norm.bias', 'transformer.layer.11.output_layer_norm.weight', 'transformer.layer.11.sa_layer_norm.bias', 'transformer.layer.11.sa_layer_norm.weight', 'transformer.layer.2.attention.k_lin.bias', 'transformer.layer.2.attention.k_lin.weight', 'transformer.layer.2.attention.out_lin.bias', 'transformer.layer.2.attention.out_lin.weight', 'transformer.layer.2.attention.q_lin.bias', 'transformer.layer.2.attention.q_lin.weight', 'transformer.layer.2.attention.v_lin.bias', 'transformer.layer.2.attention.v_lin.weight', 'transformer.layer.2.ffn.lin1.bias', 'transformer.layer.2.ffn.lin1.weight', 'transformer.layer.2.ffn.lin2.bias', 'transformer.layer.2.ffn.lin2.weight', 'transformer.layer.2.output_layer_norm.bias', 'transformer.layer.2.output_layer_norm.weight', 'transformer.layer.2.sa_layer_norm.bias', 'transformer.layer.2.sa_layer_norm.weight', 'transformer.layer.3.attention.k_lin.bias', 'transformer.layer.3.attention.k_lin.weight', 'transformer.layer.3.attention.out_lin.bias', 'transformer.layer.3.attention.out_lin.weight', 'transformer.layer.3.attention.q_lin.bias', 'transformer.layer.3.attention.q_lin.weight', 'transformer.layer.3.attention.v_lin.bias', 'transformer.layer.3.attention.v_lin.weight', 'transformer.layer.3.ffn.lin1.bias', 'transformer.layer.3.ffn.lin1.weight', 'transformer.layer.3.ffn.lin2.bias', 'transformer.layer.3.ffn.lin2.weight', 'transformer.layer.3.output_layer_norm.bias', 'transformer.layer.3.output_layer_norm.weight', 'transformer.layer.3.sa_layer_norm.bias', 'transformer.layer.3.sa_layer_norm.weight', 'transformer.layer.4.attention.k_lin.bias', 'transformer.layer.4.attention.k_lin.weight', 'transformer.layer.4.attention.out_lin.bias', 'transformer.layer.4.attention.out_lin.weight', 'transformer.layer.4.attention.q_lin.bias', 'transformer.layer.4.attention.q_lin.weight', 'transformer.layer.4.attention.v_lin.bias', 'transformer.layer.4.attention.v_lin.weight', 'transformer.layer.4.ffn.lin1.bias', 'transformer.layer.4.ffn.lin1.weight', 'transformer.layer.4.ffn.lin2.bias', 'transformer.layer.4.ffn.lin2.weight', 'transformer.layer.4.output_layer_norm.bias', 'transformer.layer.4.output_layer_norm.weight', 'transformer.layer.4.sa_layer_norm.bias', 'transformer.layer.4.sa_layer_norm.weight', 'transformer.layer.5.attention.k_lin.bias', 'transformer.layer.5.attention.k_lin.weight', 'transformer.layer.5.attention.out_lin.bias', 'transformer.layer.5.attention.out_lin.weight', 'transformer.layer.5.attention.q_lin.bias', 'transformer.layer.5.attention.q_lin.weight', 'transformer.layer.5.attention.v_lin.bias', 'transformer.layer.5.attention.v_lin.weight', 'transformer.layer.5.ffn.lin1.bias', 'transformer.layer.5.ffn.lin1.weight', 'transformer.layer.5.ffn.lin2.bias', 'transformer.layer.5.ffn.lin2.weight', 'transformer.layer.5.output_layer_norm.bias', 'transformer.layer.5.output_layer_norm.weight', 'transformer.layer.5.sa_layer_norm.bias', 'transformer.layer.5.sa_layer_norm.weight', 'transformer.layer.6.attention.k_lin.bias', 'transformer.layer.6.attention.k_lin.weight', 'transformer.layer.6.attention.out_lin.bias', 'transformer.layer.6.attention.out_lin.weight', 'transformer.layer.6.attention.q_lin.bias', 'transformer.layer.6.attention.q_lin.weight', 'transformer.layer.6.attention.v_lin.bias', 'transformer.layer.6.attention.v_lin.weight', 'transformer.layer.6.ffn.lin1.bias', 'transformer.layer.6.ffn.lin1.weight', 'transformer.layer.6.ffn.lin2.bias', 'transformer.layer.6.ffn.lin2.weight', 'transformer.layer.6.output_layer_norm.bias', 'transformer.layer.6.output_layer_norm.weight', 'transformer.layer.6.sa_layer_norm.bias', 'transformer.layer.6.sa_layer_norm.weight', 'transformer.layer.7.attention.k_lin.bias', 'transformer.layer.7.attention.k_lin.weight', 'transformer.layer.7.attention.out_lin.bias', 'transformer.layer.7.attention.out_lin.weight', 'transformer.layer.7.attention.q_lin.bias', 'transformer.layer.7.attention.q_lin.weight', 'transformer.layer.7.attention.v_lin.bias', 'transformer.layer.7.attention.v_lin.weight', 'transformer.layer.7.ffn.lin1.bias', 'transformer.layer.7.ffn.lin1.weight', 'transformer.layer.7.ffn.lin2.bias', 'transformer.layer.7.ffn.lin2.weight', 'transformer.layer.7.output_layer_norm.bias', 'transformer.layer.7.output_layer_norm.weight', 'transformer.layer.7.sa_layer_norm.bias', 'transformer.layer.7.sa_layer_norm.weight', 'transformer.layer.8.attention.k_lin.bias', 'transformer.layer.8.attention.k_lin.weight', 'transformer.layer.8.attention.out_lin.bias', 'transformer.layer.8.attention.out_lin.weight', 'transformer.layer.8.attention.q_lin.bias', 'transformer.layer.8.attention.q_lin.weight', 'transformer.layer.8.attention.v_lin.bias', 'transformer.layer.8.attention.v_lin.weight', 'transformer.layer.8.ffn.lin1.bias', 'transformer.layer.8.ffn.lin1.weight', 'transformer.layer.8.ffn.lin2.bias', 'transformer.layer.8.ffn.lin2.weight', 'transformer.layer.8.output_layer_norm.bias', 'transformer.layer.8.output_layer_norm.weight', 'transformer.layer.8.sa_layer_norm.bias', 'transformer.layer.8.sa_layer_norm.weight', 'transformer.layer.9.attention.k_lin.bias', 'transformer.layer.9.attention.k_lin.weight', 'transformer.layer.9.attention.out_lin.bias', 'transformer.layer.9.attention.out_lin.weight', 'transformer.layer.9.attention.q_lin.bias', 'transformer.layer.9.attention.q_lin.weight', 'transformer.layer.9.attention.v_lin.bias', 'transformer.layer.9.attention.v_lin.weight', 'transformer.layer.9.ffn.lin1.bias', 'transformer.layer.9.ffn.lin1.weight', 'transformer.layer.9.ffn.lin2.bias', 'transformer.layer.9.ffn.lin2.weight', 'transformer.layer.9.output_layer_norm.bias', 'transformer.layer.9.output_layer_norm.weight', 'transformer.layer.9.sa_layer_norm.bias', 'transformer.layer.9.sa_layer_norm.weight']\n",
      "You should probably TRAIN this model on a down-stream task to be able to use it for predictions and inference.\n"
     ]
    },
    {
     "name": "stdout",
     "output_type": "stream",
     "text": [
      "Modelo cargado: dccuchile/bert-base-spanish-wwm-uncased\n",
      "Número de parámetros: 109,853,958\n",
      "Dispositivo: cuda\n",
      "Número de clases: 6\n"
     ]
    }
   ],
   "source": [
    "# Cargar el modelo DistilBERT para clasificación\n",
    "model = DistilBertForSequenceClassification.from_pretrained(\n",
    "    model_name, \n",
    "    num_labels=NUM_LABELS, \n",
    "    id2label=id2label, \n",
    "    label2id=label2id\n",
    ")\n",
    "\n",
    "# Mover modelo a GPU si está disponible\n",
    "model.to(device)\n",
    "\n",
    "print(f\"Modelo cargado: {model_name}\")\n",
    "print(f\"Número de parámetros: {model.num_parameters():,}\")\n",
    "print(f\"Dispositivo: {device}\")\n",
    "print(f\"Número de clases: {NUM_LABELS}\")"
   ]
  },
  {
   "attachments": {},
   "cell_type": "markdown",
   "metadata": {},
   "source": [
    "## Useful information and understanding you know about the model from the above output\n",
    "\n",
    "**Model components:** The model consists of several key components, such as:\n",
    "\n",
    "* Embeddings (word, position, and token type embeddings)\n",
    "\n",
    "* Encoder layers (12 layers in this case, each with self-attention, intermediate, and output components)\n",
    "\n",
    "* Layer normalization and dropout layers for regularization\n",
    "\n",
    "* GELU activation functions used in the intermediate layers\n",
    "\n",
    "**Model dimensions:**\n",
    "\n",
    "* Word embeddings: The model has an embedding size of 768 dimensions and a vocabulary size of 32,000 tokens.\n",
    "\n",
    "* Position embeddings: The model can handle input sequences of up to 512 tokens in length.\n",
    "\n",
    "* Encoder layers: The model has 12 encoder layers, each with a hidden size of 768 and an intermediate layer size of 3072.\n",
    "\n",
    "* Task-specific classification layer: The BertForSequenceClassification model is designed for sequence classification tasks. It takes the final hidden state of the [CLS] token and passes it through a linear layer and a softmax function to produce class probabilities. In this case, the model is configured with a custom number of labels (NUM_LABELS) and label mappings (id2label, label2id)."
   ]
  },
  {
   "attachments": {},
   "cell_type": "markdown",
   "metadata": {},
   "source": [
    "--------------------------\n",
    "\n",
    "## Lets understand the flow of a raw input-text > through the pretrained BERT Model > and finally coming out on the other side of the model as a class prediction in the context of this task-specific fine-tuning.\n",
    "\n",
    "In BERT-based models like BertForSequenceClassification, the [CLS] token (short for \"classification\") serves as a special token that is prepended to the input sequence. It is designed to be used as an aggregate representation of the entire input sequence for classification tasks.\n",
    "\n",
    "Here's a step-by-step breakdown of how the [CLS] token is handled during fine-tuning for a specific classification task:\n",
    "\n",
    "Tokenization: During the pre-processing of the input text, the tokenizer inserts the [CLS] token at the beginning of the input sequence. For example, if the input text is \"This is a sample sentence.\", the tokenized input would look like: \"[CLS] This is a sample sentence.\"\n",
    "\n",
    "**Embeddings:** The tokenized input sequence, including the [CLS] token, is passed through the BERT model's embedding layers, which convert the tokens into continuous-valued word vectors.\n",
    "\n",
    "**Encoder layers:** The embedded input sequence is then processed through the BERT model's encoder layers, which consist of self-attention mechanisms and feed-forward neural networks. During this process, the model learns to capture the semantic and syntactic information present in the input sequence, as well as any relationships between the tokens.\n",
    "\n",
    "**Final hidden state of [CLS]:** At the end of the BERT model's encoder layers, each token has a corresponding hidden state vector. For the [CLS] token, its final hidden state is used as an aggregated representation of the entire input sequence. This vector is then passed to the task-specific classification layer.\n",
    "\n",
    "**Linear layer:** The final hidden state of the [CLS] token is fed into a linear layer, which maps the 768-dimensional vector (assuming the base BERT model) to a vector of size equal to the number of target classes. This is essentially a weight matrix multiplication followed by a bias term addition.\n",
    "\n",
    "**Softmax function:** The output of the linear layer is then passed through a softmax function, which converts the raw output values into class probabilities. The softmax function ensures that the sum of probabilities across all classes equals 1.\n",
    "\n",
    "**Prediction:** The class with the highest probability is chosen as the final prediction for the given input sequence.\n",
    "\n",
    "During task-specific fine-tuning, the model learns to adjust its weights and biases based on the training data and the target labels. This involves updating both the BERT model's pre-trained parameters and the task-specific classification layer's parameters through backpropagation and optimization techniques like gradient descent. This fine-tuning process allows the model to adapt to the specific classification task and improve its performance on the given dataset.\n",
    "\n",
    "-------------------\n",
    "\n",
    "## In the above task specific fine tuning do all of the weights of the pretrained BERT model gets modified during this finetuning process or only some of the weights get modified ?\n",
    "\n",
    "\n",
    "During task-specific fine-tuning, all of the weights of the pre-trained BERT model are potentially subject to modification, including the weights in the embedding layers, the encoder layers, and the classification layer. However, the extent to which each weight is modified depends on the learning rate, the specific task, and the training data.\n",
    "\n",
    "In general, fine-tuning a pre-trained model like BERT involves updating its weights to better adapt to the target task. When fine-tuning begins, the initial weights of the model come from the pre-trained model, which has already learned general language representations from a large-scale unsupervised task (e.g., masked language modeling).\n",
    "\n",
    "During fine-tuning, the model is exposed to the particular task-specific training data and labels, and the weights are updated using backpropagation and gradient descent.\n",
    "\n",
    "Typically, the learning rate for fine-tuning is set to be smaller than the learning rate used during pre-training. This is because the pre-trained model already has a good understanding of language, and the fine-tuning process aims to make small, incremental adjustments to the weights to adapt the model to the specific task without losing the valuable general language knowledge."
   ]
  },
  {
   "attachments": {},
   "cell_type": "markdown",
   "metadata": {
    "id": "ZROZOxM9xi3l"
   },
   "source": [
    "## Splitting df_org\n"
   ]
  },
  {
   "cell_type": "code",
   "execution_count": 16,
   "metadata": {
    "executionInfo": {
     "elapsed": 3,
     "status": "ok",
     "timestamp": 1625398219485,
     "user": {
      "displayName": "Savas Yıldırım",
      "photoUrl": "https://lh3.googleusercontent.com/a-/AOh14GhdhYZMfq-hvK2xI7HqkzvJuCbfgFrIs4wypQEm5w=s64",
      "userId": "10717726124681851716"
     },
     "user_tz": -180
    },
    "id": "HM58CfgUZ0oK"
   },
   "outputs": [
    {
     "name": "stdout",
     "output_type": "stream",
     "text": [
      "📊 PARTICIÓN ESTRATIFICADA:\n",
      "Train: 3341 ejemplos (70.0%)\n",
      "Val:   716 ejemplos (15.0%)\n",
      "Test:  717 ejemplos (15.0%)\n",
      "\n",
      "🎯 DISTRIBUCIÓN POR CLASE:\n",
      "Clase          | Train | Val | Test | Total\n",
      "---------------------------------------------\n",
      "autenticidad   |  2206 | 473 |  473 |  3152\n",
      "integridad     |   512 | 109 |  110 |   731\n",
      "responsabilidad |   280 |  60 |   60 |   400\n",
      "resistencia    |   157 |  34 |   34 |   225\n",
      "confidencialidad |   103 |  22 |   22 |   147\n",
      "no_repudio     |    83 |  18 |   18 |   119\n"
     ]
    }
   ],
   "source": [
    "from sklearn.model_selection import train_test_split\n",
    "\n",
    "# MEJOR OPCIÓN: Partición estratificada que mantiene proporción de clases\n",
    "# Esto asegura que cada subconjunto tenga representación proporcional de todas las clases\n",
    "\n",
    "# Primera división: 70% train, 30% temp (que luego se divide en val y test)\n",
    "train_texts, temp_texts, train_labels, temp_labels = train_test_split(\n",
    "    list(df_org.text), \n",
    "    list(df_org.labels),\n",
    "    test_size=0.3, \n",
    "    random_state=42,\n",
    "    stratify=df_org.labels  # ¡CLAVE! Mantiene proporción de clases\n",
    ")\n",
    "\n",
    "# Segunda división del 30% restante: 15% validación, 15% test\n",
    "val_texts, test_texts, val_labels, test_labels = train_test_split(\n",
    "    temp_texts, \n",
    "    temp_labels,\n",
    "    test_size=0.5,  # 50% del 30% = 15% del total\n",
    "    random_state=42,\n",
    "    stratify=temp_labels  # Mantiene proporción también aquí\n",
    ")\n",
    "\n",
    "print(\"📊 PARTICIÓN ESTRATIFICADA:\")\n",
    "print(f\"Train: {len(train_texts)} ejemplos ({len(train_texts)/len(df_org)*100:.1f}%)\")\n",
    "print(f\"Val:   {len(val_texts)} ejemplos ({len(val_texts)/len(df_org)*100:.1f}%)\")\n",
    "print(f\"Test:  {len(test_texts)} ejemplos ({len(test_texts)/len(df_org)*100:.1f}%)\")\n",
    "\n",
    "# Verificar distribución de clases en cada subconjunto\n",
    "import pandas as pd\n",
    "train_dist = pd.Series(train_labels).value_counts()\n",
    "val_dist = pd.Series(val_labels).value_counts()\n",
    "test_dist = pd.Series(test_labels).value_counts()\n",
    "\n",
    "print(\"\\n🎯 DISTRIBUCIÓN POR CLASE:\")\n",
    "print(\"Clase          | Train | Val | Test | Total\")\n",
    "print(\"-\" * 45)\n",
    "for label_id in sorted(df_org.labels.unique()):\n",
    "    label_name = id2label[label_id]\n",
    "    train_count = train_dist.get(label_id, 0)\n",
    "    val_count = val_dist.get(label_id, 0)\n",
    "    test_count = test_dist.get(label_id, 0)\n",
    "    total_count = train_count + val_count + test_count\n",
    "    print(f\"{label_name:<14} | {train_count:5d} | {val_count:3d} | {test_count:4d} | {total_count:5d}\")"
   ]
  },
  {
   "cell_type": "code",
   "execution_count": 17,
   "metadata": {},
   "outputs": [
    {
     "name": "stdout",
     "output_type": "stream",
     "text": [
      "⚖️ PESOS DE CLASE CALCULADOS:\n",
      "autenticidad   : 0.252\n",
      "integridad     : 1.088\n",
      "responsabilidad: 1.989\n",
      "resistencia    : 3.547\n",
      "confidencialidad: 5.406\n",
      "no_repudio     : 6.709\n",
      "\n",
      "🔍 ANÁLISIS DE VIABILIDAD:\n",
      "✅ autenticidad: 2206 ejemplos (SUFICIENTE)\n",
      "✅ integridad: 512 ejemplos (SUFICIENTE)\n",
      "✅ responsabilidad: 280 ejemplos (SUFICIENTE)\n",
      "✅ resistencia: 157 ejemplos (SUFICIENTE)\n",
      "✅ confidencialidad: 103 ejemplos (SUFICIENTE)\n",
      "🟡 no_repudio: 83 ejemplos (LÍMITE - monitorea overfitting)\n",
      "\n",
      "💡 RECOMENDACIONES:\n",
      "• Usar class_weight='balanced' en el modelo\n",
      "• Considerar data augmentation para clases minoritarias\n",
      "• Usar métricas balanceadas (F1-macro, precisión/recall por clase)\n",
      "• Monitorear overfitting en clases con pocos ejemplos\n",
      "• Considerar combinar clases muy similares si es apropiado\n"
     ]
    }
   ],
   "source": [
    "# TÉCNICAS ADICIONALES PARA DATASET DESBALANCEADO\n",
    "\n",
    "# 1. Calcular pesos de clase para loss function balanceado\n",
    "from sklearn.utils.class_weight import compute_class_weight\n",
    "import numpy as np\n",
    "\n",
    "class_weights = compute_class_weight(\n",
    "    'balanced',\n",
    "    classes=np.unique(train_labels),\n",
    "    y=train_labels\n",
    ")\n",
    "\n",
    "# Convertir a diccionario para usar en el entrenamiento\n",
    "class_weights_dict = {i: weight for i, weight in enumerate(class_weights)}\n",
    "\n",
    "print(\"⚖️ PESOS DE CLASE CALCULADOS:\")\n",
    "for label_id, weight in class_weights_dict.items():\n",
    "    label_name = id2label[label_id]\n",
    "    print(f\"{label_name:<15}: {weight:.3f}\")\n",
    "\n",
    "# 2. Análisis de viabilidad por clase\n",
    "print(\"\\n🔍 ANÁLISIS DE VIABILIDAD:\")\n",
    "min_examples_needed = 50  # Mínimo recomendado por clase para deep learning\n",
    "\n",
    "for label_id in sorted(df_org.labels.unique()):\n",
    "    label_name = id2label[label_id]\n",
    "    train_count = train_dist.get(label_id, 0)\n",
    "    \n",
    "    if train_count < min_examples_needed:\n",
    "        print(f\"⚠️  {label_name}: {train_count} ejemplos (INSUFICIENTE - considera data augmentation)\")\n",
    "    elif train_count < 100:\n",
    "        print(f\"🟡 {label_name}: {train_count} ejemplos (LÍMITE - monitorea overfitting)\")\n",
    "    else:\n",
    "        print(f\"✅ {label_name}: {train_count} ejemplos (SUFICIENTE)\")\n",
    "\n",
    "# 3. Recomendaciones específicas\n",
    "print(f\"\\n💡 RECOMENDACIONES:\")\n",
    "print(f\"• Usar class_weight='balanced' en el modelo\")\n",
    "print(f\"• Considerar data augmentation para clases minoritarias\")\n",
    "print(f\"• Usar métricas balanceadas (F1-macro, precisión/recall por clase)\")\n",
    "print(f\"• Monitorear overfitting en clases con pocos ejemplos\")\n",
    "print(f\"• Considerar combinar clases muy similares si es apropiado\")"
   ]
  },
  {
   "cell_type": "code",
   "execution_count": 18,
   "metadata": {},
   "outputs": [
    {
     "data": {
      "text/plain": [
       "3341"
      ]
     },
     "execution_count": 18,
     "metadata": {},
     "output_type": "execute_result"
    }
   ],
   "source": [
    "len(train_texts)\n"
   ]
  },
  {
   "cell_type": "code",
   "execution_count": 19,
   "metadata": {
    "colab": {
     "base_uri": "https://localhost:8080/"
    },
    "executionInfo": {
     "elapsed": 7,
     "status": "ok",
     "timestamp": 1625398221030,
     "user": {
      "displayName": "Savas Yıldırım",
      "photoUrl": "https://lh3.googleusercontent.com/a-/AOh14GhdhYZMfq-hvK2xI7HqkzvJuCbfgFrIs4wypQEm5w=s64",
      "userId": "10717726124681851716"
     },
     "user_tz": -180
    },
    "id": "vwe5Bt8CfhdU",
    "outputId": "619c0354-0462-485e-804c-b5df86b7d713"
   },
   "outputs": [
    {
     "data": {
      "text/plain": [
       "(3341, 716, 717)"
      ]
     },
     "execution_count": 19,
     "metadata": {},
     "output_type": "execute_result"
    }
   ],
   "source": [
    "len(train_texts), len(val_texts), len(test_texts)"
   ]
  },
  {
   "cell_type": "code",
   "execution_count": 20,
   "metadata": {
    "executionInfo": {
     "elapsed": 4406,
     "status": "ok",
     "timestamp": 1625398225432,
     "user": {
      "displayName": "Savas Yıldırım",
      "photoUrl": "https://lh3.googleusercontent.com/a-/AOh14GhdhYZMfq-hvK2xI7HqkzvJuCbfgFrIs4wypQEm5w=s64",
      "userId": "10717726124681851716"
     },
     "user_tz": -180
    },
    "id": "snOgiQe2mbpx"
   },
   "outputs": [],
   "source": [
    "train_encodings = tokenizer(train_texts, truncation=True, padding=True)\n",
    "val_encodings  = tokenizer(val_texts, truncation=True, padding=True)\n",
    "test_encodings = tokenizer(test_texts, truncation=True, padding=True)"
   ]
  },
  {
   "cell_type": "code",
   "execution_count": 21,
   "metadata": {},
   "outputs": [],
   "source": [
    "class DataLoader(Dataset):\n",
    "    \"\"\"\n",
    "    Custom Dataset class for handling tokenized text data and corresponding labels.\n",
    "    Inherits from torch.utils.data.Dataset.\n",
    "    \"\"\"\n",
    "    def __init__(self, encodings, labels):\n",
    "        \"\"\"\n",
    "        Initializes the DataLoader class with encodings and labels.\n",
    "\n",
    "        Args:\n",
    "            encodings (dict): A dictionary containing tokenized input text data\n",
    "                              (e.g., 'input_ids', 'token_type_ids', 'attention_mask').\n",
    "            labels (list): A list of integer labels for the input text data.\n",
    "        \"\"\"\n",
    "        self.encodings = encodings\n",
    "        self.labels = labels\n",
    "\n",
    "    def __getitem__(self, idx):\n",
    "        \"\"\"\n",
    "        Returns a dictionary containing tokenized data and the corresponding label for a given index.\n",
    "\n",
    "        Args:\n",
    "            idx (int): The index of the data item to retrieve.\n",
    "\n",
    "        Returns:\n",
    "            item (dict): A dictionary containing the tokenized data and the corresponding label.\n",
    "        \"\"\"\n",
    "        # Retrieve tokenized data for the given index\n",
    "        item = {key: torch.tensor(val[idx]) for key, val in self.encodings.items()}\n",
    "        # Add the label for the given index to the item dictionary\n",
    "        item['labels'] = torch.tensor(self.labels[idx])\n",
    "        return item\n",
    "\n",
    "    def __len__(self):\n",
    "        \"\"\"\n",
    "        Returns the number of data items in the dataset.\n",
    "\n",
    "        Returns:\n",
    "            (int): The number of data items in the dataset.\n",
    "        \"\"\"\n",
    "        return len(self.labels)\n"
   ]
  },
  {
   "attachments": {},
   "cell_type": "markdown",
   "metadata": {},
   "source": [
    "## From above DataLoader() The line `item = {key: torch.tensor(val[idx]) for key, val in self.encodings.items()}`\n",
    "\n",
    "Here I use a dictionary comprehension that constructs a new dictionary called `item`. This line converts the encoding values associated with the input text at the given index idx into PyTorch tensors.\n",
    "\n",
    "self.encodings is a dictionary containing tokenized input text with keys like 'input_ids', 'token_type_ids', and 'attention_mask'. These keys represent different aspects of the encoded text that are needed for processing by the BERT model. The values associated with these keys are lists or arrays of integers.\n",
    "\n",
    ".items() is a method that returns a view object displaying a list of a dictionary's key-value pairs as tuples.\n",
    "\n",
    "The dictionary comprehension iterates through the key-value pairs of self.encodings with the variables key and val. For each key-value pair, it creates a new key-value pair in the item dictionary, where the key remains the same, and the value is a PyTorch tensor created from the elements at index idx of the original value.\n",
    "\n",
    "In essence, this line of code is converting the relevant parts of the input encodings (e.g., input IDs, attention masks) at the given index idx into PyTorch tensors and storing them in a new dictionary called item. This format is necessary for input to the BERT model during training or evaluation.\n",
    "\n",
    "Here's an example of the output format for self.encodings:\n",
    "\n",
    "\n",
    "```\n",
    "{\n",
    "    'input_ids': [\n",
    "        [101, 2023, 2003, 1037, 2742, 102],\n",
    "        [101, 1045, 2066, 5009, 2102, 102],\n",
    "        [101, 2129, 2024, 2017, 1029, 102]\n",
    "    ],\n",
    "    'token_type_ids': [\n",
    "        [0, 0, 0, 0, 0, 0],\n",
    "        [0, 0, 0, 0, 0, 0],\n",
    "        [0, 0, 0, 0, 0, 0]\n",
    "    ],\n",
    "    'attention_mask': [\n",
    "        [1, 1, 1, 1, 1, 1],\n",
    "        [1, 1, 1, 1, 1, 1],\n",
    "        [1, 1, 1, 1, 1, 1]\n",
    "    ]\n",
    "}\n",
    "```\n",
    "\n",
    "In this example, there are three input sentences, each encoded into three different features: input_ids, token_type_ids, and attention_mask.\n",
    "\n",
    "* input_ids: Lists of token IDs that represent the input text. The integers correspond to the tokens in the tokenizer's vocabulary.\n",
    "\n",
    "* token_type_ids: Lists of token type IDs that indicate the type of each token. In this case, they are all 0 since there is only one sentence per input. In tasks that require sentence pairs, you would see different token type IDs for different sentences.\n",
    "\n",
    "* attention_mask: Lists of binary values that indicate whether a given token should be attended to (1) or not (0). In this example, all tokens are attended to, so all the values are 1. Padding tokens would have a value of 0 in the attention_mask.\n",
    "\n",
    "Note that this example assumes that the maximum sequence length is 6 tokens, and there's no need for padding or truncation. In practice, you would have longer sequences, and padding would be necessary to make all the input sequences have the same length."
   ]
  },
  {
   "cell_type": "code",
   "execution_count": 22,
   "metadata": {
    "executionInfo": {
     "elapsed": 412,
     "status": "ok",
     "timestamp": 1625398229008,
     "user": {
      "displayName": "Savas Yıldırım",
      "photoUrl": "https://lh3.googleusercontent.com/a-/AOh14GhdhYZMfq-hvK2xI7HqkzvJuCbfgFrIs4wypQEm5w=s64",
      "userId": "10717726124681851716"
     },
     "user_tz": -180
    },
    "id": "Vx3u-9ljtmM_"
   },
   "outputs": [],
   "source": [
    "train_dataloader = DataLoader(train_encodings, train_labels)\n",
    "\n",
    "val_dataloader = DataLoader(val_encodings, val_labels)\n",
    "\n",
    "test_dataset = DataLoader(test_encodings, test_labels)"
   ]
  },
  {
   "cell_type": "markdown",
   "metadata": {
    "id": "-dXcl4LWBsJy"
   },
   "source": [
    "## Training with Trainer Class"
   ]
  },
  {
   "cell_type": "code",
   "execution_count": 23,
   "metadata": {
    "executionInfo": {
     "elapsed": 2440,
     "status": "ok",
     "timestamp": 1625398235958,
     "user": {
      "displayName": "Savas Yıldırım",
      "photoUrl": "https://lh3.googleusercontent.com/a-/AOh14GhdhYZMfq-hvK2xI7HqkzvJuCbfgFrIs4wypQEm5w=s64",
      "userId": "10717726124681851716"
     },
     "user_tz": -180
    },
    "id": "jHP9LR_QsytZ"
   },
   "outputs": [],
   "source": [
    "from transformers import TrainingArguments, Trainer"
   ]
  },
  {
   "cell_type": "code",
   "execution_count": 24,
   "metadata": {},
   "outputs": [],
   "source": [
    "from sklearn.metrics import accuracy_score, precision_recall_fscore_support\n",
    "\n",
    "def compute_metrics(pred):\n",
    "    \"\"\"\n",
    "    Computes accuracy, F1, precision, and recall for a given set of predictions.\n",
    "    \n",
    "    Args:\n",
    "        pred (obj): An object containing label_ids and predictions attributes.\n",
    "            - label_ids (array-like): A 1D array of true class labels.\n",
    "            - predictions (array-like): A 2D array where each row represents\n",
    "              an observation, and each column represents the probability of \n",
    "              that observation belonging to a certain class.\n",
    "              \n",
    "    Returns:\n",
    "        dict: A dictionary containing the following metrics:\n",
    "            - Accuracy (float): The proportion of correctly classified instances.\n",
    "            - F1 (float): The macro F1 score, which is the harmonic mean of precision\n",
    "              and recall. Macro averaging calculates the metric independently for\n",
    "              each class and then takes the average.\n",
    "            - Precision (float): The macro precision, which is the number of true\n",
    "              positives divided by the sum of true positives and false positives.\n",
    "            - Recall (float): The macro recall, which is the number of true positives\n",
    "              divided by the sum of true positives and false negatives.\n",
    "    \"\"\"\n",
    "    # Extract true labels from the input object\n",
    "    labels = pred.label_ids\n",
    "    \n",
    "    # Obtain predicted class labels by finding the column index with the maximum probability\n",
    "    preds = pred.predictions.argmax(-1)\n",
    "    \n",
    "    # Compute macro precision, recall, and F1 score using sklearn's precision_recall_fscore_support function\n",
    "    precision, recall, f1, _ = precision_recall_fscore_support(labels, preds, average='macro')\n",
    "    \n",
    "    # Calculate the accuracy score using sklearn's accuracy_score function\n",
    "    acc = accuracy_score(labels, preds)\n",
    "    \n",
    "    # Return the computed metrics as a dictionary\n",
    "    return {\n",
    "        'Accuracy': acc,\n",
    "        'F1': f1,\n",
    "        'Precision': precision,\n",
    "        'Recall': recall\n",
    "    }\n"
   ]
  },
  {
   "attachments": {},
   "cell_type": "markdown",
   "metadata": {},
   "source": [
    "## compute_metrics\n",
    "\n",
    "argmax(): The NumPy method argmax() returns the index of the maximum value along a given axis. In a classification problem, we are interested in finding the class with the highest probability for each observation.\n",
    "\n",
    "(-1): The (-1) inside argmax() represents the axis along which the operation should be performed. In Python, negative indices are used to access elements from the end. So, (-1) here means the last axis, which is the columns in a 2D array."
   ]
  },
  {
   "cell_type": "code",
   "execution_count": 25,
   "metadata": {
    "executionInfo": {
     "elapsed": 1491,
     "status": "ok",
     "timestamp": 1625398239957,
     "user": {
      "displayName": "Savas Yıldırım",
      "photoUrl": "https://lh3.googleusercontent.com/a-/AOh14GhdhYZMfq-hvK2xI7HqkzvJuCbfgFrIs4wypQEm5w=s64",
      "userId": "10717726124681851716"
     },
     "user_tz": -180
    },
    "id": "zMiPOIVAmYI2"
   },
   "outputs": [
    {
     "name": "stderr",
     "output_type": "stream",
     "text": [
      "c:\\Users\\Ario\\AppData\\Local\\Programs\\Python\\Python313\\Lib\\site-packages\\transformers\\training_args.py:1568: FutureWarning: `evaluation_strategy` is deprecated and will be removed in version 4.46 of 🤗 Transformers. Use `eval_strategy` instead\n",
      "  warnings.warn(\n"
     ]
    }
   ],
   "source": [
    "training_args = TrainingArguments(\n",
    "    # The output directory where the model predictions and checkpoints will be written\n",
    "    output_dir='./TTC4900Model', \n",
    "    do_train=True,\n",
    "    do_eval=True,\n",
    "    #  The number of epochs, defaults to 3.0 \n",
    "    num_train_epochs=3,              \n",
    "    per_device_train_batch_size=16,  \n",
    "    per_device_eval_batch_size=32,\n",
    "    # Number of steps used for a linear warmup\n",
    "    warmup_steps=100,                \n",
    "    weight_decay=0.01,\n",
    "    logging_strategy='steps',\n",
    "   # TensorBoard log directory                 \n",
    "    logging_dir='./multi-class-logs',            \n",
    "    logging_steps=50,\n",
    "    evaluation_strategy=\"steps\",\n",
    "    eval_steps=50,\n",
    "    save_strategy=\"steps\", \n",
    "    fp16=True,\n",
    "    load_best_model_at_end=True\n",
    ")"
   ]
  },
  {
   "cell_type": "code",
   "execution_count": 28,
   "metadata": {
    "colab": {
     "base_uri": "https://localhost:8080/"
    },
    "executionInfo": {
     "elapsed": 5,
     "status": "ok",
     "timestamp": 1625398241364,
     "user": {
      "displayName": "Savas Yıldırım",
      "photoUrl": "https://lh3.googleusercontent.com/a-/AOh14GhdhYZMfq-hvK2xI7HqkzvJuCbfgFrIs4wypQEm5w=s64",
      "userId": "10717726124681851716"
     },
     "user_tz": -180
    },
    "id": "8Ajz99mwj-OL",
    "outputId": "d3ee309d-d48a-4ed1-d9f6-ed48fcb3102f"
   },
   "outputs": [
    {
     "name": "stdout",
     "output_type": "stream",
     "text": [
      "✅ Trainer corregido y configurado con pesos de clase para dataset desbalanceado\n",
      "📊 Esto ayudará al modelo a aprender mejor las clases minoritarias\n",
      "🔧 Función compute_loss actualizada para compatibilidad con transformers v4.46+\n"
     ]
    }
   ],
   "source": [
    "from transformers import Trainer\n",
    "import torch\n",
    "\n",
    "# Custom Trainer para manejar class weights - VERSIÓN CORREGIDA\n",
    "class WeightedTrainer(Trainer):\n",
    "    def __init__(self, class_weights=None, **kwargs):\n",
    "        super().__init__(**kwargs)\n",
    "        self.class_weights = class_weights\n",
    "    \n",
    "    def compute_loss(self, model, inputs, return_outputs=False, num_items_in_batch=None):\n",
    "        \"\"\"\n",
    "        Función de pérdida personalizada que acepta todos los parámetros de la nueva versión\n",
    "        de transformers, incluyendo num_items_in_batch\n",
    "        \"\"\"\n",
    "        labels = inputs.get(\"labels\")\n",
    "        outputs = model(**inputs)\n",
    "        logits = outputs.get(\"logits\")\n",
    "        \n",
    "        # Aplicar class weights si están disponibles\n",
    "        if self.class_weights is not None:\n",
    "            # Convertir class weights a tensor en el dispositivo correcto\n",
    "            weights = torch.tensor(list(self.class_weights.values()), \n",
    "                                 dtype=torch.float32, device=logits.device)\n",
    "            loss_fct = torch.nn.CrossEntropyLoss(weight=weights)\n",
    "            loss = loss_fct(logits.view(-1, self.model.config.num_labels), labels.view(-1))\n",
    "        else:\n",
    "            loss_fct = torch.nn.CrossEntropyLoss()\n",
    "            loss = loss_fct(logits.view(-1, self.model.config.num_labels), labels.view(-1))\n",
    "        \n",
    "        return (loss, outputs) if return_outputs else loss\n",
    "\n",
    "# Crear trainer con pesos de clase para manejar desbalance\n",
    "trainer = WeightedTrainer(\n",
    "    model=model,                        \n",
    "    args=training_args,                 \n",
    "    train_dataset=train_dataloader,         \n",
    "    eval_dataset=val_dataloader,\n",
    "    compute_metrics=compute_metrics,\n",
    "    class_weights=class_weights_dict  # ¡NUEVO! Pesos para clases desbalanceadas\n",
    ")\n",
    "\n",
    "print(\"✅ Trainer corregido y configurado con pesos de clase para dataset desbalanceado\")\n",
    "print(\"📊 Esto ayudará al modelo a aprender mejor las clases minoritarias\")\n",
    "print(\"🔧 Función compute_loss actualizada para compatibilidad con transformers v4.46+\")"
   ]
  },
  {
   "cell_type": "code",
   "execution_count": 29,
   "metadata": {
    "colab": {
     "base_uri": "https://localhost:8080/",
     "height": 1000
    },
    "executionInfo": {
     "elapsed": 701522,
     "status": "ok",
     "timestamp": 1625398945390,
     "user": {
      "displayName": "Savas Yıldırım",
      "photoUrl": "https://lh3.googleusercontent.com/a-/AOh14GhdhYZMfq-hvK2xI7HqkzvJuCbfgFrIs4wypQEm5w=s64",
      "userId": "10717726124681851716"
     },
     "user_tz": -180
    },
    "id": "1WRhCH-Hj-RT",
    "outputId": "fa531859-8922-4ced-9796-2301c3ebf091"
   },
   "outputs": [
    {
     "data": {
      "application/vnd.jupyter.widget-view+json": {
       "model_id": "be520d0c60244f5cb8d93e9807cb05ea",
       "version_major": 2,
       "version_minor": 0
      },
      "text/plain": [
       "  0%|          | 0/627 [00:00<?, ?it/s]"
      ]
     },
     "metadata": {},
     "output_type": "display_data"
    },
    {
     "name": "stdout",
     "output_type": "stream",
     "text": [
      "{'loss': 1.8266, 'grad_norm': 12.383475303649902, 'learning_rate': 2.45e-05, 'epoch': 0.24}\n"
     ]
    },
    {
     "data": {
      "application/vnd.jupyter.widget-view+json": {
       "model_id": "40532efe5d5949abacd7afb844d65ac3",
       "version_major": 2,
       "version_minor": 0
      },
      "text/plain": [
       "  0%|          | 0/23 [00:00<?, ?it/s]"
      ]
     },
     "metadata": {},
     "output_type": "display_data"
    },
    {
     "name": "stderr",
     "output_type": "stream",
     "text": [
      "c:\\Users\\Ario\\AppData\\Local\\Programs\\Python\\Python313\\Lib\\site-packages\\sklearn\\metrics\\_classification.py:1531: UndefinedMetricWarning: Precision is ill-defined and being set to 0.0 in labels with no predicted samples. Use `zero_division` parameter to control this behavior.\n",
      "  _warn_prf(average, modifier, f\"{metric.capitalize()} is\", len(result))\n"
     ]
    },
    {
     "name": "stdout",
     "output_type": "stream",
     "text": [
      "{'eval_loss': 1.8027814626693726, 'eval_Accuracy': 0.07541899441340782, 'eval_F1': 0.03224201888489209, 'eval_Precision': 0.16230478859725536, 'eval_Recall': 0.17044475765405998, 'eval_runtime': 63.9702, 'eval_samples_per_second': 11.193, 'eval_steps_per_second': 0.36, 'epoch': 0.24}\n",
      "{'loss': 1.8367, 'grad_norm': 8.05030345916748, 'learning_rate': 4.9500000000000004e-05, 'epoch': 0.48}\n",
      "{'loss': 1.8367, 'grad_norm': 8.05030345916748, 'learning_rate': 4.9500000000000004e-05, 'epoch': 0.48}\n"
     ]
    },
    {
     "data": {
      "application/vnd.jupyter.widget-view+json": {
       "model_id": "91fa39fce1944e259e9b0277db51fc0a",
       "version_major": 2,
       "version_minor": 0
      },
      "text/plain": [
       "  0%|          | 0/23 [00:00<?, ?it/s]"
      ]
     },
     "metadata": {},
     "output_type": "display_data"
    },
    {
     "name": "stderr",
     "output_type": "stream",
     "text": [
      "c:\\Users\\Ario\\AppData\\Local\\Programs\\Python\\Python313\\Lib\\site-packages\\sklearn\\metrics\\_classification.py:1531: UndefinedMetricWarning: Precision is ill-defined and being set to 0.0 in labels with no predicted samples. Use `zero_division` parameter to control this behavior.\n",
      "  _warn_prf(average, modifier, f\"{metric.capitalize()} is\", len(result))\n"
     ]
    },
    {
     "name": "stdout",
     "output_type": "stream",
     "text": [
      "{'eval_loss': 1.8749570846557617, 'eval_Accuracy': 0.06005586592178771, 'eval_F1': 0.021518713263635737, 'eval_Precision': 0.1746817538896747, 'eval_Recall': 0.16983791402396053, 'eval_runtime': 63.7568, 'eval_samples_per_second': 11.23, 'eval_steps_per_second': 0.361, 'epoch': 0.48}\n",
      "{'loss': 1.8492, 'grad_norm': 9.179108619689941, 'learning_rate': 4.535104364326376e-05, 'epoch': 0.72}\n",
      "{'loss': 1.8492, 'grad_norm': 9.179108619689941, 'learning_rate': 4.535104364326376e-05, 'epoch': 0.72}\n"
     ]
    },
    {
     "data": {
      "application/vnd.jupyter.widget-view+json": {
       "model_id": "27a9aaa15a5949ba93ab52581e5e786e",
       "version_major": 2,
       "version_minor": 0
      },
      "text/plain": [
       "  0%|          | 0/23 [00:00<?, ?it/s]"
      ]
     },
     "metadata": {},
     "output_type": "display_data"
    },
    {
     "name": "stderr",
     "output_type": "stream",
     "text": [
      "c:\\Users\\Ario\\AppData\\Local\\Programs\\Python\\Python313\\Lib\\site-packages\\sklearn\\metrics\\_classification.py:1531: UndefinedMetricWarning: Precision is ill-defined and being set to 0.0 in labels with no predicted samples. Use `zero_division` parameter to control this behavior.\n",
      "  _warn_prf(average, modifier, f\"{metric.capitalize()} is\", len(result))\n"
     ]
    },
    {
     "name": "stdout",
     "output_type": "stream",
     "text": [
      "{'eval_loss': 1.842164158821106, 'eval_Accuracy': 0.664804469273743, 'eval_F1': 0.14186842527904922, 'eval_Precision': 0.2772323515661524, 'eval_Recall': 0.17125382262996944, 'eval_runtime': 64.2584, 'eval_samples_per_second': 11.143, 'eval_steps_per_second': 0.358, 'epoch': 0.72}\n",
      "{'loss': 1.7368, 'grad_norm': 5.730801582336426, 'learning_rate': 4.060721062618596e-05, 'epoch': 0.96}\n",
      "{'loss': 1.7368, 'grad_norm': 5.730801582336426, 'learning_rate': 4.060721062618596e-05, 'epoch': 0.96}\n"
     ]
    },
    {
     "data": {
      "application/vnd.jupyter.widget-view+json": {
       "model_id": "48c23c32242844b5b371c31568b9c996",
       "version_major": 2,
       "version_minor": 0
      },
      "text/plain": [
       "  0%|          | 0/23 [00:00<?, ?it/s]"
      ]
     },
     "metadata": {},
     "output_type": "display_data"
    },
    {
     "name": "stderr",
     "output_type": "stream",
     "text": [
      "c:\\Users\\Ario\\AppData\\Local\\Programs\\Python\\Python313\\Lib\\site-packages\\sklearn\\metrics\\_classification.py:1531: UndefinedMetricWarning: Precision is ill-defined and being set to 0.0 in labels with no predicted samples. Use `zero_division` parameter to control this behavior.\n",
      "  _warn_prf(average, modifier, f\"{metric.capitalize()} is\", len(result))\n"
     ]
    },
    {
     "name": "stdout",
     "output_type": "stream",
     "text": [
      "{'eval_loss': 1.659507393836975, 'eval_Accuracy': 0.6410614525139665, 'eval_F1': 0.22808380480232052, 'eval_Precision': 0.2160033145390969, 'eval_Recall': 0.2771213845301748, 'eval_runtime': 63.8828, 'eval_samples_per_second': 11.208, 'eval_steps_per_second': 0.36, 'epoch': 0.96}\n",
      "{'loss': 1.7614, 'grad_norm': 7.293763160705566, 'learning_rate': 3.5863377609108165e-05, 'epoch': 1.2}\n",
      "{'loss': 1.7614, 'grad_norm': 7.293763160705566, 'learning_rate': 3.5863377609108165e-05, 'epoch': 1.2}\n"
     ]
    },
    {
     "data": {
      "application/vnd.jupyter.widget-view+json": {
       "model_id": "468993c8fd6d4e3aa3be67c71514c779",
       "version_major": 2,
       "version_minor": 0
      },
      "text/plain": [
       "  0%|          | 0/23 [00:00<?, ?it/s]"
      ]
     },
     "metadata": {},
     "output_type": "display_data"
    },
    {
     "name": "stderr",
     "output_type": "stream",
     "text": [
      "c:\\Users\\Ario\\AppData\\Local\\Programs\\Python\\Python313\\Lib\\site-packages\\sklearn\\metrics\\_classification.py:1531: UndefinedMetricWarning: Precision is ill-defined and being set to 0.0 in labels with no predicted samples. Use `zero_division` parameter to control this behavior.\n",
      "  _warn_prf(average, modifier, f\"{metric.capitalize()} is\", len(result))\n"
     ]
    },
    {
     "name": "stdout",
     "output_type": "stream",
     "text": [
      "{'eval_loss': 1.7007415294647217, 'eval_Accuracy': 0.5153631284916201, 'eval_F1': 0.18630201442701444, 'eval_Precision': 0.18941330529888045, 'eval_Recall': 0.269105786547647, 'eval_runtime': 63.8671, 'eval_samples_per_second': 11.211, 'eval_steps_per_second': 0.36, 'epoch': 1.2}\n",
      "{'loss': 1.5726, 'grad_norm': 6.717439651489258, 'learning_rate': 3.1119544592030364e-05, 'epoch': 1.44}\n",
      "{'loss': 1.5726, 'grad_norm': 6.717439651489258, 'learning_rate': 3.1119544592030364e-05, 'epoch': 1.44}\n"
     ]
    },
    {
     "data": {
      "application/vnd.jupyter.widget-view+json": {
       "model_id": "e83c0989a267470f94bfe708507384d8",
       "version_major": 2,
       "version_minor": 0
      },
      "text/plain": [
       "  0%|          | 0/23 [00:00<?, ?it/s]"
      ]
     },
     "metadata": {},
     "output_type": "display_data"
    },
    {
     "name": "stderr",
     "output_type": "stream",
     "text": [
      "c:\\Users\\Ario\\AppData\\Local\\Programs\\Python\\Python313\\Lib\\site-packages\\sklearn\\metrics\\_classification.py:1531: UndefinedMetricWarning: Precision is ill-defined and being set to 0.0 in labels with no predicted samples. Use `zero_division` parameter to control this behavior.\n",
      "  _warn_prf(average, modifier, f\"{metric.capitalize()} is\", len(result))\n"
     ]
    },
    {
     "name": "stdout",
     "output_type": "stream",
     "text": [
      "{'eval_loss': 1.6104878187179565, 'eval_Accuracy': 0.6089385474860335, 'eval_F1': 0.2207161231433076, 'eval_Precision': 0.21360949417355235, 'eval_Recall': 0.2751068597511826, 'eval_runtime': 63.8603, 'eval_samples_per_second': 11.212, 'eval_steps_per_second': 0.36, 'epoch': 1.44}\n",
      "{'loss': 1.5469, 'grad_norm': 12.061553001403809, 'learning_rate': 2.637571157495256e-05, 'epoch': 1.67}\n",
      "{'loss': 1.5469, 'grad_norm': 12.061553001403809, 'learning_rate': 2.637571157495256e-05, 'epoch': 1.67}\n"
     ]
    },
    {
     "data": {
      "application/vnd.jupyter.widget-view+json": {
       "model_id": "e1546384e07145c08dc5f2ef2c298de7",
       "version_major": 2,
       "version_minor": 0
      },
      "text/plain": [
       "  0%|          | 0/23 [00:00<?, ?it/s]"
      ]
     },
     "metadata": {},
     "output_type": "display_data"
    },
    {
     "name": "stderr",
     "output_type": "stream",
     "text": [
      "c:\\Users\\Ario\\AppData\\Local\\Programs\\Python\\Python313\\Lib\\site-packages\\sklearn\\metrics\\_classification.py:1531: UndefinedMetricWarning: Precision is ill-defined and being set to 0.0 in labels with no predicted samples. Use `zero_division` parameter to control this behavior.\n",
      "  _warn_prf(average, modifier, f\"{metric.capitalize()} is\", len(result))\n"
     ]
    },
    {
     "name": "stdout",
     "output_type": "stream",
     "text": [
      "{'eval_loss': 1.6132785081863403, 'eval_Accuracy': 0.7094972067039106, 'eval_F1': 0.3055916336573166, 'eval_Precision': 0.30226469116033733, 'eval_Recall': 0.31563300204190525, 'eval_runtime': 63.8501, 'eval_samples_per_second': 11.214, 'eval_steps_per_second': 0.36, 'epoch': 1.67}\n",
      "{'loss': 1.5242, 'grad_norm': 11.515780448913574, 'learning_rate': 2.1631878557874763e-05, 'epoch': 1.91}\n",
      "{'loss': 1.5242, 'grad_norm': 11.515780448913574, 'learning_rate': 2.1631878557874763e-05, 'epoch': 1.91}\n"
     ]
    },
    {
     "data": {
      "application/vnd.jupyter.widget-view+json": {
       "model_id": "f1aac872725b49c0bb1672237f9c908f",
       "version_major": 2,
       "version_minor": 0
      },
      "text/plain": [
       "  0%|          | 0/23 [00:00<?, ?it/s]"
      ]
     },
     "metadata": {},
     "output_type": "display_data"
    },
    {
     "name": "stderr",
     "output_type": "stream",
     "text": [
      "c:\\Users\\Ario\\AppData\\Local\\Programs\\Python\\Python313\\Lib\\site-packages\\sklearn\\metrics\\_classification.py:1531: UndefinedMetricWarning: Precision is ill-defined and being set to 0.0 in labels with no predicted samples. Use `zero_division` parameter to control this behavior.\n",
      "  _warn_prf(average, modifier, f\"{metric.capitalize()} is\", len(result))\n"
     ]
    },
    {
     "name": "stdout",
     "output_type": "stream",
     "text": [
      "{'eval_loss': 1.549803376197815, 'eval_Accuracy': 0.5810055865921788, 'eval_F1': 0.2237860548100258, 'eval_Precision': 0.21357561505459796, 'eval_Recall': 0.3172960798131797, 'eval_runtime': 63.878, 'eval_samples_per_second': 11.209, 'eval_steps_per_second': 0.36, 'epoch': 1.91}\n",
      "{'loss': 1.3887, 'grad_norm': 7.149379253387451, 'learning_rate': 1.6888045540796965e-05, 'epoch': 2.15}\n",
      "{'loss': 1.3887, 'grad_norm': 7.149379253387451, 'learning_rate': 1.6888045540796965e-05, 'epoch': 2.15}\n"
     ]
    },
    {
     "data": {
      "application/vnd.jupyter.widget-view+json": {
       "model_id": "e4ab75f5264f40b2be470184707a7d09",
       "version_major": 2,
       "version_minor": 0
      },
      "text/plain": [
       "  0%|          | 0/23 [00:00<?, ?it/s]"
      ]
     },
     "metadata": {},
     "output_type": "display_data"
    },
    {
     "name": "stderr",
     "output_type": "stream",
     "text": [
      "c:\\Users\\Ario\\AppData\\Local\\Programs\\Python\\Python313\\Lib\\site-packages\\sklearn\\metrics\\_classification.py:1531: UndefinedMetricWarning: Precision is ill-defined and being set to 0.0 in labels with no predicted samples. Use `zero_division` parameter to control this behavior.\n",
      "  _warn_prf(average, modifier, f\"{metric.capitalize()} is\", len(result))\n"
     ]
    },
    {
     "name": "stdout",
     "output_type": "stream",
     "text": [
      "{'eval_loss': 1.6206235885620117, 'eval_Accuracy': 0.6494413407821229, 'eval_F1': 0.23602955795524383, 'eval_Precision': 0.21396366382373844, 'eval_Recall': 0.30970512235902115, 'eval_runtime': 63.8849, 'eval_samples_per_second': 11.208, 'eval_steps_per_second': 0.36, 'epoch': 2.15}\n",
      "{'loss': 1.3925, 'grad_norm': 41.08927917480469, 'learning_rate': 1.2144212523719166e-05, 'epoch': 2.39}\n",
      "{'loss': 1.3925, 'grad_norm': 41.08927917480469, 'learning_rate': 1.2144212523719166e-05, 'epoch': 2.39}\n"
     ]
    },
    {
     "data": {
      "application/vnd.jupyter.widget-view+json": {
       "model_id": "e08fa08aff8e456995ba9b8e2ba15926",
       "version_major": 2,
       "version_minor": 0
      },
      "text/plain": [
       "  0%|          | 0/23 [00:00<?, ?it/s]"
      ]
     },
     "metadata": {},
     "output_type": "display_data"
    },
    {
     "name": "stderr",
     "output_type": "stream",
     "text": [
      "c:\\Users\\Ario\\AppData\\Local\\Programs\\Python\\Python313\\Lib\\site-packages\\sklearn\\metrics\\_classification.py:1531: UndefinedMetricWarning: Precision is ill-defined and being set to 0.0 in labels with no predicted samples. Use `zero_division` parameter to control this behavior.\n",
      "  _warn_prf(average, modifier, f\"{metric.capitalize()} is\", len(result))\n"
     ]
    },
    {
     "name": "stdout",
     "output_type": "stream",
     "text": [
      "{'eval_loss': 1.6195068359375, 'eval_Accuracy': 0.6843575418994413, 'eval_F1': 0.30255349509591606, 'eval_Precision': 0.3122759977197997, 'eval_Recall': 0.350149723239245, 'eval_runtime': 63.8591, 'eval_samples_per_second': 11.212, 'eval_steps_per_second': 0.36, 'epoch': 2.39}\n",
      "{'loss': 1.2749, 'grad_norm': 13.081820487976074, 'learning_rate': 7.400379506641367e-06, 'epoch': 2.63}\n",
      "{'loss': 1.2749, 'grad_norm': 13.081820487976074, 'learning_rate': 7.400379506641367e-06, 'epoch': 2.63}\n"
     ]
    },
    {
     "data": {
      "application/vnd.jupyter.widget-view+json": {
       "model_id": "1cf2a193691848d68f114e3806988cf1",
       "version_major": 2,
       "version_minor": 0
      },
      "text/plain": [
       "  0%|          | 0/23 [00:00<?, ?it/s]"
      ]
     },
     "metadata": {},
     "output_type": "display_data"
    },
    {
     "name": "stderr",
     "output_type": "stream",
     "text": [
      "c:\\Users\\Ario\\AppData\\Local\\Programs\\Python\\Python313\\Lib\\site-packages\\sklearn\\metrics\\_classification.py:1531: UndefinedMetricWarning: Precision is ill-defined and being set to 0.0 in labels with no predicted samples. Use `zero_division` parameter to control this behavior.\n",
      "  _warn_prf(average, modifier, f\"{metric.capitalize()} is\", len(result))\n"
     ]
    },
    {
     "name": "stdout",
     "output_type": "stream",
     "text": [
      "{'eval_loss': 1.5917270183563232, 'eval_Accuracy': 0.6801675977653632, 'eval_F1': 0.28476030161526344, 'eval_Precision': 0.27048424099613166, 'eval_Recall': 0.3501383581925506, 'eval_runtime': 61.5501, 'eval_samples_per_second': 11.633, 'eval_steps_per_second': 0.374, 'epoch': 2.63}\n",
      "{'loss': 1.3632, 'grad_norm': 12.657721519470215, 'learning_rate': 2.7514231499051238e-06, 'epoch': 2.87}\n",
      "{'loss': 1.3632, 'grad_norm': 12.657721519470215, 'learning_rate': 2.7514231499051238e-06, 'epoch': 2.87}\n"
     ]
    },
    {
     "data": {
      "application/vnd.jupyter.widget-view+json": {
       "model_id": "73562e06c151466cb08c1ebb3ab1f2a9",
       "version_major": 2,
       "version_minor": 0
      },
      "text/plain": [
       "  0%|          | 0/23 [00:00<?, ?it/s]"
      ]
     },
     "metadata": {},
     "output_type": "display_data"
    },
    {
     "name": "stderr",
     "output_type": "stream",
     "text": [
      "c:\\Users\\Ario\\AppData\\Local\\Programs\\Python\\Python313\\Lib\\site-packages\\sklearn\\metrics\\_classification.py:1531: UndefinedMetricWarning: Precision is ill-defined and being set to 0.0 in labels with no predicted samples. Use `zero_division` parameter to control this behavior.\n",
      "  _warn_prf(average, modifier, f\"{metric.capitalize()} is\", len(result))\n"
     ]
    },
    {
     "name": "stdout",
     "output_type": "stream",
     "text": [
      "{'eval_loss': 1.5582482814788818, 'eval_Accuracy': 0.6913407821229051, 'eval_F1': 0.28362464864211173, 'eval_Precision': 0.2643672700603394, 'eval_Recall': 0.34872197419418144, 'eval_runtime': 61.552, 'eval_samples_per_second': 11.632, 'eval_steps_per_second': 0.374, 'epoch': 2.87}\n",
      "{'train_runtime': 5511.3438, 'train_samples_per_second': 1.819, 'train_steps_per_second': 0.114, 'train_loss': 1.5786385543798906, 'epoch': 3.0}\n",
      "{'train_runtime': 5511.3438, 'train_samples_per_second': 1.819, 'train_steps_per_second': 0.114, 'train_loss': 1.5786385543798906, 'epoch': 3.0}\n"
     ]
    },
    {
     "data": {
      "text/plain": [
       "TrainOutput(global_step=627, training_loss=1.5786385543798906, metrics={'train_runtime': 5511.3438, 'train_samples_per_second': 1.819, 'train_steps_per_second': 0.114, 'total_flos': 1323779302191996.0, 'train_loss': 1.5786385543798906, 'epoch': 3.0})"
      ]
     },
     "execution_count": 29,
     "metadata": {},
     "output_type": "execute_result"
    }
   ],
   "source": [
    "trainer.train()"
   ]
  },
  {
   "cell_type": "code",
   "execution_count": 30,
   "metadata": {
    "colab": {
     "base_uri": "https://localhost:8080/",
     "height": 315
    },
    "executionInfo": {
     "elapsed": 85330,
     "status": "ok",
     "timestamp": 1625399043817,
     "user": {
      "displayName": "Savas Yıldırım",
      "photoUrl": "https://lh3.googleusercontent.com/a-/AOh14GhdhYZMfq-hvK2xI7HqkzvJuCbfgFrIs4wypQEm5w=s64",
      "userId": "10717726124681851716"
     },
     "user_tz": -180
    },
    "id": "FN2i7kRIj-UQ",
    "outputId": "71974f34-e461-4999-9ab8-558783167509"
   },
   "outputs": [
    {
     "data": {
      "application/vnd.jupyter.widget-view+json": {
       "model_id": "251024a3c929402383b48d9f511f2a3a",
       "version_major": 2,
       "version_minor": 0
      },
      "text/plain": [
       "  0%|          | 0/105 [00:00<?, ?it/s]"
      ]
     },
     "metadata": {},
     "output_type": "display_data"
    },
    {
     "name": "stderr",
     "output_type": "stream",
     "text": [
      "c:\\Users\\Ario\\AppData\\Local\\Programs\\Python\\Python313\\Lib\\site-packages\\sklearn\\metrics\\_classification.py:1531: UndefinedMetricWarning: Precision is ill-defined and being set to 0.0 in labels with no predicted samples. Use `zero_division` parameter to control this behavior.\n",
      "  _warn_prf(average, modifier, f\"{metric.capitalize()} is\", len(result))\n"
     ]
    },
    {
     "data": {
      "application/vnd.jupyter.widget-view+json": {
       "model_id": "5e4ccb9f80cb4cdebed6fffc39eb4c47",
       "version_major": 2,
       "version_minor": 0
      },
      "text/plain": [
       "  0%|          | 0/23 [00:00<?, ?it/s]"
      ]
     },
     "metadata": {},
     "output_type": "display_data"
    },
    {
     "name": "stderr",
     "output_type": "stream",
     "text": [
      "c:\\Users\\Ario\\AppData\\Local\\Programs\\Python\\Python313\\Lib\\site-packages\\sklearn\\metrics\\_classification.py:1531: UndefinedMetricWarning: Precision is ill-defined and being set to 0.0 in labels with no predicted samples. Use `zero_division` parameter to control this behavior.\n",
      "  _warn_prf(average, modifier, f\"{metric.capitalize()} is\", len(result))\n"
     ]
    },
    {
     "data": {
      "application/vnd.jupyter.widget-view+json": {
       "model_id": "d255e189a2294049904aac94237bb71f",
       "version_major": 2,
       "version_minor": 0
      },
      "text/plain": [
       "  0%|          | 0/23 [00:00<?, ?it/s]"
      ]
     },
     "metadata": {},
     "output_type": "display_data"
    },
    {
     "name": "stderr",
     "output_type": "stream",
     "text": [
      "c:\\Users\\Ario\\AppData\\Local\\Programs\\Python\\Python313\\Lib\\site-packages\\sklearn\\metrics\\_classification.py:1531: UndefinedMetricWarning: Precision is ill-defined and being set to 0.0 in labels with no predicted samples. Use `zero_division` parameter to control this behavior.\n",
      "  _warn_prf(average, modifier, f\"{metric.capitalize()} is\", len(result))\n"
     ]
    },
    {
     "data": {
      "text/html": [
       "<div>\n",
       "<style scoped>\n",
       "    .dataframe tbody tr th:only-of-type {\n",
       "        vertical-align: middle;\n",
       "    }\n",
       "\n",
       "    .dataframe tbody tr th {\n",
       "        vertical-align: top;\n",
       "    }\n",
       "\n",
       "    .dataframe thead th {\n",
       "        text-align: right;\n",
       "    }\n",
       "</style>\n",
       "<table border=\"1\" class=\"dataframe\">\n",
       "  <thead>\n",
       "    <tr style=\"text-align: right;\">\n",
       "      <th></th>\n",
       "      <th>eval_loss</th>\n",
       "      <th>eval_Accuracy</th>\n",
       "      <th>eval_F1</th>\n",
       "      <th>eval_Precision</th>\n",
       "      <th>eval_Recall</th>\n",
       "    </tr>\n",
       "  </thead>\n",
       "  <tbody>\n",
       "    <tr>\n",
       "      <th>train</th>\n",
       "      <td>1.308239</td>\n",
       "      <td>0.721341</td>\n",
       "      <td>0.334866</td>\n",
       "      <td>0.341526</td>\n",
       "      <td>0.399011</td>\n",
       "    </tr>\n",
       "    <tr>\n",
       "      <th>val</th>\n",
       "      <td>1.619507</td>\n",
       "      <td>0.684358</td>\n",
       "      <td>0.302553</td>\n",
       "      <td>0.312276</td>\n",
       "      <td>0.350150</td>\n",
       "    </tr>\n",
       "    <tr>\n",
       "      <th>test</th>\n",
       "      <td>1.518882</td>\n",
       "      <td>0.704324</td>\n",
       "      <td>0.319972</td>\n",
       "      <td>0.344384</td>\n",
       "      <td>0.365083</td>\n",
       "    </tr>\n",
       "  </tbody>\n",
       "</table>\n",
       "</div>"
      ],
      "text/plain": [
       "       eval_loss  eval_Accuracy   eval_F1  eval_Precision  eval_Recall\n",
       "train   1.308239       0.721341  0.334866        0.341526     0.399011\n",
       "val     1.619507       0.684358  0.302553        0.312276     0.350150\n",
       "test    1.518882       0.704324  0.319972        0.344384     0.365083"
      ]
     },
     "execution_count": 30,
     "metadata": {},
     "output_type": "execute_result"
    }
   ],
   "source": [
    "q=[trainer.evaluate(eval_dataset=df_org) for df_org in [train_dataloader, val_dataloader, test_dataset]]\n",
    "\n",
    "pd.DataFrame(q, index=[\"train\",\"val\",\"test\"]).iloc[:,:5]"
   ]
  },
  {
   "cell_type": "code",
   "execution_count": 31,
   "metadata": {
    "executionInfo": {
     "elapsed": 392,
     "status": "ok",
     "timestamp": 1625399048192,
     "user": {
      "displayName": "Savas Yıldırım",
      "photoUrl": "https://lh3.googleusercontent.com/a-/AOh14GhdhYZMfq-hvK2xI7HqkzvJuCbfgFrIs4wypQEm5w=s64",
      "userId": "10717726124681851716"
     },
     "user_tz": -180
    },
    "id": "I0guPT0jYJth"
   },
   "outputs": [],
   "source": [
    "from transformers import DistilBertForSequenceClassification, DistilBertTokenizerFast"
   ]
  },
  {
   "cell_type": "code",
   "execution_count": 33,
   "metadata": {},
   "outputs": [],
   "source": [
    "def predict_iso25010(text):\n",
    "    \"\"\"\n",
    "    Predice la característica de seguridad ISO 25010 para un comentario dado\n",
    "\n",
    "    Args:\n",
    "        text (str): El comentario del usuario para clasificar\n",
    "\n",
    "    Returns:\n",
    "        probs (torch.Tensor): Probabilidades para cada clase ISO 25010\n",
    "        pred_label_idx (torch.Tensor): Índice de la clase predicha\n",
    "        pred_label (str): Etiqueta de la característica ISO 25010 predicha\n",
    "        confidence (float): Confianza de la predicción (0-1)\n",
    "    \"\"\"\n",
    "    # Tokenizar el texto de entrada\n",
    "    inputs = tokenizer(text, padding=True, truncation=True, max_length=512, return_tensors=\"pt\")\n",
    "    \n",
    "    # Mover a GPU si está disponible\n",
    "    if device == 'cuda':\n",
    "        inputs = inputs.to(\"cuda\")\n",
    "\n",
    "    # Obtener predicciones del modelo\n",
    "    with torch.no_grad():\n",
    "        outputs = model(**inputs)\n",
    "\n",
    "    # Aplicar softmax para obtener probabilidades\n",
    "    probs = outputs.logits.softmax(1)\n",
    "    \n",
    "    # Obtener el índice de la clase con mayor probabilidad\n",
    "    pred_label_idx = probs.argmax()\n",
    "    \n",
    "    # Obtener la confianza (probabilidad máxima)\n",
    "    confidence = probs.max().item()\n",
    "    \n",
    "    # Mapear índice a etiqueta ISO 25010\n",
    "    pred_label = model.config.id2label[pred_label_idx.item()]\n",
    "    \n",
    "    return probs, pred_label_idx, pred_label, confidence\n",
    "\n",
    "# Mapeo de características ISO 25010 a descripciones\n",
    "ISO25010_DESCRIPTIONS = {\n",
    "    'authenticity': 'Autenticidad - Verifica la identidad de usuarios/entidades',\n",
    "    'integrity': 'Integridad - Protege contra modificaciones no autorizadas',\n",
    "    'non_repudiation': 'No repudio - Garantiza evidencia de acciones realizadas',\n",
    "    'accountability': 'Responsabilidad - Permite rastrear acciones a entidades específicas',\n",
    "    'confidentiality': 'Confidencialidad - Protege información de acceso no autorizado',\n",
    "    'resistance': 'Resistencia - Protege contra ataques y amenazas de seguridad',\n",
    "}\n",
    "\n",
    "def explain_prediction(text, show_probabilities=True):\n",
    "    \"\"\"\n",
    "    Realiza predicción y muestra explicación detallada\n",
    "    \"\"\"\n",
    "    probs, pred_idx, pred_label, confidence = predict_iso25010(text)\n",
    "    \n",
    "    print(f\"📝 Comentario: '{text[:100]}{'...' if len(text) > 100 else ''}'\")\n",
    "    print(f\"\\n🎯 Predicción: {pred_label.upper()}\")\n",
    "    print(f\"📊 Confianza: {confidence:.2%}\")\n",
    "    print(f\"📖 Descripción: {ISO25010_DESCRIPTIONS.get(pred_label, 'Descripción no disponible')}\")\n",
    "    \n",
    "    if show_probabilities:\n",
    "        print(f\"\\n📈 Distribución de probabilidades:\")\n",
    "        for i, (label, prob) in enumerate(zip(model.config.id2label.values(), probs[0])):\n",
    "            bar = \"█\" * int(prob * 20)\n",
    "            print(f\"  {label:<15}: {prob:.3f} {bar}\")\n",
    "    \n",
    "    return pred_label, confidence"
   ]
  },
  {
   "cell_type": "code",
   "execution_count": 2,
   "metadata": {
    "colab": {
     "base_uri": "https://localhost:8080/"
    },
    "executionInfo": {
     "elapsed": 4,
     "status": "ok",
     "timestamp": 1625399050044,
     "user": {
      "displayName": "Savas Yıldırım",
      "photoUrl": "https://lh3.googleusercontent.com/a-/AOh14GhdhYZMfq-hvK2xI7HqkzvJuCbfgFrIs4wypQEm5w=s64",
      "userId": "10717726124681851716"
     },
     "user_tz": -180
    },
    "id": "mac8gGgWmYNn",
    "outputId": "f6038697-d659-44b8-b0fe-946c9ce8e7ac"
   },
   "outputs": [
    {
     "name": "stdout",
     "output_type": "stream",
     "text": [
      "🧪 PRUEBAS DEL MODELO ISO 25010\n",
      "\n",
      "================================================================================\n"
     ]
    },
    {
     "ename": "NameError",
     "evalue": "name 'explain_prediction' is not defined",
     "output_type": "error",
     "traceback": [
      "\u001b[1;31m---------------------------------------------------------------------------\u001b[0m",
      "\u001b[1;31mNameError\u001b[0m                                 Traceback (most recent call last)",
      "Cell \u001b[1;32mIn[2], line 7\u001b[0m\n\u001b[0;32m      5\u001b[0m text1 \u001b[38;5;241m=\u001b[39m \u001b[38;5;124m\"\u001b[39m\u001b[38;5;124mno me llega el código de verificación para hacer la transferencia\u001b[39m\u001b[38;5;124m\"\u001b[39m\n\u001b[0;32m      6\u001b[0m \u001b[38;5;28mprint\u001b[39m(\u001b[38;5;124m\"\u001b[39m\u001b[38;5;124m=\u001b[39m\u001b[38;5;124m\"\u001b[39m \u001b[38;5;241m*\u001b[39m \u001b[38;5;241m80\u001b[39m)\n\u001b[1;32m----> 7\u001b[0m \u001b[43mexplain_prediction\u001b[49m(text1)\n\u001b[0;32m      9\u001b[0m \u001b[38;5;28mprint\u001b[39m(\u001b[38;5;124m\"\u001b[39m\u001b[38;5;130;01m\\n\u001b[39;00m\u001b[38;5;124m\"\u001b[39m \u001b[38;5;241m+\u001b[39m \u001b[38;5;124m\"\u001b[39m\u001b[38;5;124m=\u001b[39m\u001b[38;5;124m\"\u001b[39m \u001b[38;5;241m*\u001b[39m \u001b[38;5;241m80\u001b[39m)\n\u001b[0;32m     10\u001b[0m \u001b[38;5;66;03m# Ejemplo 2: Integridad  \u001b[39;00m\n",
      "\u001b[1;31mNameError\u001b[0m: name 'explain_prediction' is not defined"
     ]
    }
   ],
   "source": [
    "# Probar con ejemplos de comentarios bancarios en español\n",
    "print(\"🧪 PRUEBAS DEL MODELO ISO 25010\\n\")\n",
    "\n",
    "# Ejemplo 1: Autenticidad\n",
    "text1 = \"no me llega el código de verificación para hacer la transferencia\"\n",
    "print(\"=\" * 80)\n",
    "explain_prediction(text1)\n",
    "\n",
    "print(\"\\n\" + \"=\" * 80)\n",
    "# Ejemplo 2: Integridad  \n",
    "text2 = \"me descontaron dinero dos veces por la misma operación\"\n",
    "explain_prediction(text2)\n",
    "\n",
    "print(\"\\n\" + \"=\" * 80)\n",
    "# Ejemplo 3: Confidencialidad\n",
    "text3 = \"alguien más puede ver mis datos personales en la aplicación\"\n",
    "explain_prediction(text3)\n",
    "\n",
    "print(\"\\n\" + \"=\" * 80)\n",
    "# Ejemplo 4: Resistencia\n",
    "text4 = \"la aplicación se cae cuando hay muchos usuarios conectados\"\n",
    "explain_prediction(text4)"
   ]
  },
  {
   "attachments": {},
   "cell_type": "markdown",
   "metadata": {
    "id": "WWoJjzP6aYlc"
   },
   "source": [
    "## Save model for inference"
   ]
  },
  {
   "cell_type": "code",
   "execution_count": 35,
   "metadata": {
    "colab": {
     "base_uri": "https://localhost:8080/"
    },
    "executionInfo": {
     "elapsed": 2155,
     "status": "ok",
     "timestamp": 1625399060094,
     "user": {
      "displayName": "Savas Yıldırım",
      "photoUrl": "https://lh3.googleusercontent.com/a-/AOh14GhdhYZMfq-hvK2xI7HqkzvJuCbfgFrIs4wypQEm5w=s64",
      "userId": "10717726124681851716"
     },
     "user_tz": -180
    },
    "id": "aF7GVSKSYBPw",
    "outputId": "a0bcea98-9f37-460f-bf56-fa7604edd970"
   },
   "outputs": [
    {
     "name": "stdout",
     "output_type": "stream",
     "text": [
      "✅ Modelo guardado en: distilbert-iso25010-security-classifier\n",
      "📁 Archivos guardados:\n",
      "  - config.json\n",
      "  - pytorch_model.bin\n",
      "  - tokenizer.json\n",
      "  - tokenizer_config.json\n",
      "  - label_mappings.json\n"
     ]
    }
   ],
   "source": [
    "# Guardar el modelo entrenado para clasificación ISO 25010\n",
    "model_path = \"distilbert-iso25010-security-classifier\"\n",
    "trainer.save_model(model_path)\n",
    "tokenizer.save_pretrained(model_path)\n",
    "\n",
    "print(f\"✅ Modelo guardado en: {model_path}\")\n",
    "print(f\"📁 Archivos guardados:\")\n",
    "print(f\"  - config.json\")\n",
    "print(f\"  - pytorch_model.bin\")\n",
    "print(f\"  - tokenizer.json\")\n",
    "print(f\"  - tokenizer_config.json\")\n",
    "\n",
    "# Guardar también los mapeos de etiquetas\n",
    "import json\n",
    "with open(f\"{model_path}/label_mappings.json\", \"w\", encoding=\"utf-8\") as f:\n",
    "    json.dump({\n",
    "        \"id2label\": id2label,\n",
    "        \"label2id\": label2id,\n",
    "        \"descriptions\": ISO25010_DESCRIPTIONS\n",
    "    }, f, indent=2, ensure_ascii=False)\n",
    "\n",
    "print(f\"  - label_mappings.json\")"
   ]
  },
  {
   "attachments": {},
   "cell_type": "markdown",
   "metadata": {},
   "source": [
    "## Re-Load saved model for inference"
   ]
  },
  {
   "cell_type": "code",
   "execution_count": 1,
   "metadata": {
    "colab": {
     "base_uri": "https://localhost:8080/"
    },
    "executionInfo": {
     "elapsed": 2937,
     "status": "ok",
     "timestamp": 1625399066951,
     "user": {
      "displayName": "Savas Yıldırım",
      "photoUrl": "https://lh3.googleusercontent.com/a-/AOh14GhdhYZMfq-hvK2xI7HqkzvJuCbfgFrIs4wypQEm5w=s64",
      "userId": "10717726124681851716"
     },
     "user_tz": -180
    },
    "id": "qEYQdBL8Tdkm",
    "outputId": "0e6b93fa-32ab-481d-e676-94dd051acec6"
   },
   "outputs": [
    {
     "ename": "NameError",
     "evalue": "name 'DistilBertForSequenceClassification' is not defined",
     "output_type": "error",
     "traceback": [
      "\u001b[1;31m---------------------------------------------------------------------------\u001b[0m",
      "\u001b[1;31mNameError\u001b[0m                                 Traceback (most recent call last)",
      "Cell \u001b[1;32mIn[1], line 5\u001b[0m\n\u001b[0;32m      2\u001b[0m model_path \u001b[38;5;241m=\u001b[39m \u001b[38;5;124m\"\u001b[39m\u001b[38;5;124mdistilbert-iso25010-security-classifier\u001b[39m\u001b[38;5;124m\"\u001b[39m\n\u001b[0;32m      4\u001b[0m \u001b[38;5;66;03m# Cargar modelo y tokenizer\u001b[39;00m\n\u001b[1;32m----> 5\u001b[0m model \u001b[38;5;241m=\u001b[39m \u001b[43mDistilBertForSequenceClassification\u001b[49m\u001b[38;5;241m.\u001b[39mfrom_pretrained(model_path)\n\u001b[0;32m      6\u001b[0m tokenizer \u001b[38;5;241m=\u001b[39m DistilBertTokenizerFast\u001b[38;5;241m.\u001b[39mfrom_pretrained(model_path)\n\u001b[0;32m      8\u001b[0m \u001b[38;5;66;03m# Crear pipeline de clasificación\u001b[39;00m\n",
      "\u001b[1;31mNameError\u001b[0m: name 'DistilBertForSequenceClassification' is not defined"
     ]
    }
   ],
   "source": [
    "# Cargar modelo guardado para inferencia\n",
    "model_path = \"distilbert-iso25010-security-classifier\"\n",
    "\n",
    "# Cargar modelo y tokenizer\n",
    "model = DistilBertForSequenceClassification.from_pretrained(model_path)\n",
    "tokenizer = DistilBertTokenizerFast.from_pretrained(model_path)\n",
    "\n",
    "# Crear pipeline de clasificación\n",
    "iso25010_classifier = pipeline(\n",
    "    \"text-classification\", \n",
    "    model=model, \n",
    "    tokenizer=tokenizer,\n",
    "    return_all_scores=True  # Mostrar probabilidades para todas las clases\n",
    ")\n",
    "\n",
    "print(\"✅ Pipeline de clasificación ISO 25010 cargado correctamente\")\n",
    "print(\"🎯 Listo para clasificar comentarios bancarios\")"
   ]
  },
  {
   "cell_type": "code",
   "execution_count": 61,
   "metadata": {
    "colab": {
     "base_uri": "https://localhost:8080/"
    },
    "executionInfo": {
     "elapsed": 533,
     "status": "ok",
     "timestamp": 1625399077112,
     "user": {
      "displayName": "Savas Yıldırım",
      "photoUrl": "https://lh3.googleusercontent.com/a-/AOh14GhdhYZMfq-hvK2xI7HqkzvJuCbfgFrIs4wypQEm5w=s64",
      "userId": "10717726124681851716"
     },
     "user_tz": -180
    },
    "id": "zyiJkIvzcdgC",
    "outputId": "ddd71497-8990-4cde-95b9-99882f33bb17"
   },
   "outputs": [
    {
     "name": "stdout",
     "output_type": "stream",
     "text": [
      "💬 Comentario: no me llega el código de verificación y no puedo hacer transferencias\n",
      "🔍 Clasificación:\n",
      "  autenticidad: 0.904\n",
      "  integridad: 0.008\n",
      "  responsabilidad: 0.008\n",
      "  resistencia: 0.047\n",
      "  confidencialidad: 0.029\n",
      "  no_repudio: 0.004\n",
      "\n"
     ]
    }
   ],
   "source": [
    "# Ejemplo 1: Problema de autenticidad\n",
    "comment1 = \"no me llega el código de verificación y no puedo hacer transferencias\"\n",
    "result1 = iso25010_classifier(comment1)\n",
    "print(\"💬 Comentario:\", comment1)\n",
    "print(\"🔍 Clasificación:\")\n",
    "for score in result1[0][:6]:  # Top 3 predicciones\n",
    "    print(f\"  {score['label']}: {score['score']:.3f}\")\n",
    "print()"
   ]
  },
  {
   "cell_type": "code",
   "execution_count": 62,
   "metadata": {
    "colab": {
     "base_uri": "https://localhost:8080/"
    },
    "executionInfo": {
     "elapsed": 515,
     "status": "ok",
     "timestamp": 1625399079590,
     "user": {
      "displayName": "Savas Yıldırım",
      "photoUrl": "https://lh3.googleusercontent.com/a-/AOh14GhdhYZMfq-hvK2xI7HqkzvJuCbfgFrIs4wypQEm5w=s64",
      "userId": "10717726124681851716"
     },
     "user_tz": -180
    },
    "id": "RPLqmWPMGc53",
    "outputId": "4070ccb8-9f2d-491e-b96e-0e8202777c07"
   },
   "outputs": [
    {
     "name": "stdout",
     "output_type": "stream",
     "text": [
      "💬 Comentario: varias veces se BLOQUEA hasta el día siguiente y dice que intente 3 veces errado cuando no fue así...por qué? o hay tantos intentos de hacker? .. otra cosa las transacciones lentas, la inmediata no me acepta más que la diferida, hmm deben mejorar no estoy muy seguro con el de empeño de la app\n",
      "🔍 Clasificación:\n",
      "  autenticidad: 0.426\n",
      "  integridad: 0.033\n",
      "  responsabilidad: 0.032\n",
      "  resistencia: 0.323\n",
      "  confidencialidad: 0.176\n",
      "  no_repudio: 0.010\n",
      "\n"
     ]
    }
   ],
   "source": [
    "# Ejemplo 2: Problema de integridad\n",
    "comment2 = \"varias veces se BLOQUEA hasta el día siguiente y dice que intente 3 veces errado cuando no fue así...por qué? o hay tantos intentos de hacker? .. otra cosa las transacciones lentas, la inmediata no me acepta más que la diferida, hmm deben mejorar no estoy muy seguro con el de empeño de la app\"\n",
    "result2 = iso25010_classifier(comment2)\n",
    "print(\"💬 Comentario:\", comment2)\n",
    "print(\"🔍 Clasificación:\")\n",
    "for score in result2[0][:6]:  # Top 3 predicciones\n",
    "    print(f\"  {score['label']}: {score['score']:.3f}\")\n",
    "print()"
   ]
  },
  {
   "cell_type": "markdown",
   "metadata": {},
   "source": [
    "## 📊 Interpretación de Resultados de Predicción\n",
    "\n",
    "### ¿Qué significan estos números?\n",
    "\n",
    "Los resultados que ves son **probabilidades** que indican qué tan seguro está el modelo de que el comentario pertenece a cada categoría ISO 25010:\n",
    "\n",
    "**Para el comentario:** *\"me cobraron dos veces la misma transferencia y no aparece en mi historial\"*\n",
    "\n",
    "- **`integridad: 0.331`** (33.1%) - **PREDICCIÓN GANADORA** 🏆\n",
    "- **`responsabilidad: 0.260`** (26.0%) - Segunda opción\n",
    "- **`autenticidad: 0.008`** (0.8%) - Muy baja probabilidad\n",
    "\n",
    "### 🎯 Interpretación del Resultado:\n",
    "\n",
    "1. **El modelo predice INTEGRIDAD con 33.1% de confianza**\n",
    "   - ✅ **Correcto conceptualmente**: Un cargo duplicado afecta la integridad de los datos financieros\n",
    "   - La integridad se refiere a que los datos no deben ser modificados de manera no autorizada\n",
    "\n",
    "2. **¿Por qué no es más alta la confianza?**\n",
    "   - 33.1% es relativamente bajo, indica **incertidumbre** del modelo\n",
    "   - Podría deberse a:\n",
    "     - Dataset desbalanceado (pocas muestras de algunas clases)\n",
    "     - Solapamiento entre categorías\n",
    "     - Necesidad de más entrenamiento\n",
    "\n",
    "3. **Responsabilidad (26.0%) como segunda opción tiene sentido:**\n",
    "   - También es relevante porque se trata de rastrear quién fue responsable del cargo duplicado\n",
    "\n",
    "### 🚨 Señales de Alerta:\n",
    "\n",
    "- **Confianza baja**: Ninguna predicción supera el 50%\n",
    "- **Distribución dispersa**: Las probabilidades están repartidas entre varias clases\n",
    "- **Posible mejora**: El modelo necesita más datos o ajuste de hiperparámetros"
   ]
  },
  {
   "cell_type": "code",
   "execution_count": 44,
   "metadata": {},
   "outputs": [
    {
     "name": "stdout",
     "output_type": "stream",
     "text": [
      "🧪 ANÁLISIS DETALLADO DEL EJEMPLO PROBLEMÁTICO:\n",
      "\n",
      "💬 Comentario: 'me cobraron dos veces la misma transferencia y no aparece en mi historial'\n",
      "================================================================================\n",
      "🎯 PREDICCIÓN PRINCIPAL:\n",
      "   Categoría: AUTENTICIDAD\n",
      "   Confianza: 0.8%\n",
      "   Nivel: 🔴 BAJA\n",
      "   📝 El modelo tiene poca confianza, clasificación incierta\n",
      "\n",
      "📊 TOP 3 PREDICCIONES:\n",
      "   1. autenticidad   :   0.8% \n",
      "   2. integridad     :  33.1% ██████\n",
      "   3. responsabilidad:  26.0% █████\n",
      "\n",
      "🔍 ANÁLISIS DE DISTRIBUCIÓN:\n",
      "   ⚠️  Las probabilidades están muy dispersas\n",
      "   💡 Posibles causas: solapamiento entre clases o datos insuficientes\n",
      "\n",
      "💡 RECOMENDACIONES:\n",
      "   🔄 Revisar manualmente esta clasificación\n",
      "   📚 Considerar agregar más ejemplos de entrenamiento\n",
      "   🎯 Evaluar si las categorías están bien definidas\n",
      "================================================================================\n"
     ]
    }
   ],
   "source": [
    "def interpretar_prediccion(result, comentario, umbral_confianza=0.5):\n",
    "    \"\"\"\n",
    "    Interpreta automáticamente los resultados de predicción del modelo ISO 25010\n",
    "    \n",
    "    Args:\n",
    "        result: Resultado del pipeline de clasificación\n",
    "        comentario: Texto del comentario original\n",
    "        umbral_confianza: Umbral mínimo para considerar una predicción confiable\n",
    "    \"\"\"\n",
    "    scores = result[0]  # Obtener scores del primer resultado\n",
    "    mejor_pred = scores[0]  # La mejor predicción (primera en la lista)\n",
    "    \n",
    "    print(f\"💬 Comentario: '{comentario}'\")\n",
    "    print(f\"=\" * 80)\n",
    "    \n",
    "    # Análisis de la predicción principal\n",
    "    print(f\"🎯 PREDICCIÓN PRINCIPAL:\")\n",
    "    print(f\"   Categoría: {mejor_pred['label'].upper()}\")\n",
    "    print(f\"   Confianza: {mejor_pred['score']:.1%}\")\n",
    "    \n",
    "    # Determinar nivel de confianza\n",
    "    if mejor_pred['score'] >= 0.8:\n",
    "        nivel = \"🟢 MUY ALTA\"\n",
    "        interpretacion = \"El modelo está muy seguro de esta clasificación\"\n",
    "    elif mejor_pred['score'] >= 0.6:\n",
    "        nivel = \"🟡 ALTA\"\n",
    "        interpretacion = \"El modelo tiene buena confianza en esta clasificación\"\n",
    "    elif mejor_pred['score'] >= 0.4:\n",
    "        nivel = \"🟠 MEDIA\"\n",
    "        interpretacion = \"El modelo tiene confianza moderada, revisar contexto\"\n",
    "    else:\n",
    "        nivel = \"🔴 BAJA\"\n",
    "        interpretacion = \"El modelo tiene poca confianza, clasificación incierta\"\n",
    "    \n",
    "    print(f\"   Nivel: {nivel}\")\n",
    "    print(f\"   📝 {interpretacion}\")\n",
    "    \n",
    "    # Mostrar top 3 predicciones\n",
    "    print(f\"\\n📊 TOP 3 PREDICCIONES:\")\n",
    "    for i, score in enumerate(scores[:3], 1):\n",
    "        porcentaje = score['score'] * 100\n",
    "        barra = \"█\" * int(porcentaje / 5)  # Escala visual\n",
    "        print(f\"   {i}. {score['label']:<15}: {porcentaje:5.1f}% {barra}\")\n",
    "    \n",
    "    # Análisis de distribución\n",
    "    print(f\"\\n🔍 ANÁLISIS DE DISTRIBUCIÓN:\")\n",
    "    suma_top3 = sum(s['score'] for s in scores[:3])\n",
    "    if suma_top3 < 0.6:\n",
    "        print(\"   ⚠️  Las probabilidades están muy dispersas\")\n",
    "        print(\"   💡 Posibles causas: solapamiento entre clases o datos insuficientes\")\n",
    "    elif mejor_pred['score'] > 0.7:\n",
    "        print(\"   ✅ Predicción clara y confiable\")\n",
    "    else:\n",
    "        print(\"   🤔 Predicción moderada, considerar contexto adicional\")\n",
    "    \n",
    "    # Recomendaciones\n",
    "    print(f\"\\n💡 RECOMENDACIONES:\")\n",
    "    if mejor_pred['score'] < umbral_confianza:\n",
    "        print(\"   🔄 Revisar manualmente esta clasificación\")\n",
    "        print(\"   📚 Considerar agregar más ejemplos de entrenamiento\")\n",
    "        print(\"   🎯 Evaluar si las categorías están bien definidas\")\n",
    "    else:\n",
    "        print(\"   ✅ Clasificación aceptable para uso automático\")\n",
    "    \n",
    "    print(\"=\" * 80)\n",
    "    return mejor_pred['label'], mejor_pred['score']\n",
    "\n",
    "# Probar con el ejemplo problemático\n",
    "print(\"🧪 ANÁLISIS DETALLADO DEL EJEMPLO PROBLEMÁTICO:\\n\")\n",
    "\n",
    "comment2 = \"me cobraron dos veces la misma transferencia y no aparece en mi historial\"\n",
    "result2 = iso25010_classifier(comment2)\n",
    "categoria, confianza = interpretar_prediccion(result2, comment2)"
   ]
  },
  {
   "cell_type": "code",
   "execution_count": null,
   "metadata": {},
   "outputs": [],
   "source": [
    "def explicar_clasificacion_iso25010(comentario, categoria_predicha):\n",
    "    \"\"\"\n",
    "    Explica por qué el modelo eligió una categoría específica para un comentario\n",
    "    \"\"\"\n",
    "    \n",
    "    # Diccionario de explicaciones contextuales\n",
    "    explicaciones = {\n",
    "        'integridad': {\n",
    "            'definicion': 'Protección contra modificaciones no autorizadas de datos',\n",
    "            'ejemplos': ['cobros duplicados', 'montos incorrectos', 'transferencias alteradas'],\n",
    "            'palabras_clave': ['duplicado', 'dos veces', 'monto incorrecto', 'alterado', 'modificado']\n",
    "        },\n",
    "        'autenticidad': {\n",
    "            'definicion': 'Verificación de identidad de usuarios y entidades',\n",
    "            'ejemplos': ['códigos de verificación', 'login fallido', 'identidad falsa'],\n",
    "            'palabras_clave': ['código', 'verificación', 'contraseña', 'login', 'acceso']\n",
    "        },\n",
    "        'confidencialidad': {\n",
    "            'definicion': 'Protección de información contra acceso no autorizado',\n",
    "            'ejemplos': ['datos visibles', 'información expuesta', 'privacidad vulnerada'],\n",
    "            'palabras_clave': ['ver datos', 'información visible', 'privado', 'expuesto']\n",
    "        },\n",
    "        'responsabilidad': {\n",
    "            'definicion': 'Capacidad de rastrear acciones a entidades específicas',\n",
    "            'ejemplos': ['historial de transacciones', 'logs de auditoría', 'registro de cambios'],\n",
    "            'palabras_clave': ['historial', 'registro', 'quién hizo', 'auditoría', 'seguimiento']\n",
    "        },\n",
    "        'no_repudio': {\n",
    "            'definicion': 'Garantía de evidencia de acciones realizadas',\n",
    "            'ejemplos': ['comprobantes', 'evidencia de transacción', 'pruebas'],\n",
    "            'palabras_clave': ['comprobante', 'evidencia', 'prueba', 'demostrar']\n",
    "        },\n",
    "        'resistencia': {\n",
    "            'definicion': 'Protección contra ataques y amenazas de seguridad',\n",
    "            'ejemplos': ['ataques de hackers', 'sistemas caídos', 'vulnerabilidades'],\n",
    "            'palabras_clave': ['caído', 'hackeo', 'ataque', 'vulnerable', 'falla de sistema']\n",
    "        }\n",
    "    }\n",
    "    \n",
    "    print(f\"🔍 ANÁLISIS CONTEXTUAL DE LA CLASIFICACIÓN:\")\n",
    "    print(f\"=\" * 60)\n",
    "    \n",
    "    if categoria_predicha in explicaciones:\n",
    "        info = explicaciones[categoria_predicha]\n",
    "        \n",
    "        print(f\"📖 CATEGORÍA: {categoria_predicha.upper()}\")\n",
    "        print(f\"   Definición: {info['definicion']}\")\n",
    "        print(f\"   Ejemplos típicos: {', '.join(info['ejemplos'])}\")\n",
    "        \n",
    "        # Analizar palabras clave presentes\n",
    "        palabras_encontradas = []\n",
    "        comentario_lower = comentario.lower()\n",
    "        \n",
    "        for palabra in info['palabras_clave']:\n",
    "            if palabra in comentario_lower:\n",
    "                palabras_encontradas.append(palabra)\n",
    "        \n",
    "        if palabras_encontradas:\n",
    "            print(f\"   ✅ Palabras clave detectadas: {', '.join(palabras_encontradas)}\")\n",
    "            print(f\"   💡 Por eso el modelo eligió esta categoría\")\n",
    "        else:\n",
    "            print(f\"   🤔 No se encontraron palabras clave obvias\")\n",
    "            print(f\"   📝 El modelo puede haber usado contexto semántico\")\n",
    "    \n",
    "    print(f\"\\n🧠 RAZONAMIENTO DEL MODELO PARA TU COMENTARIO:\")\n",
    "    print(f\"   '{comentario}'\")\n",
    "    \n",
    "    # Análisis específico para el comentario de ejemplo\n",
    "    if 'dos veces' in comentario.lower() or 'duplicado' in comentario.lower():\n",
    "        print(f\"   🎯 'dos veces' → Sugiere problema de INTEGRIDAD (datos duplicados)\")\n",
    "    \n",
    "    if 'historial' in comentario.lower():\n",
    "        print(f\"   🎯 'historial' → Podría ser RESPONSABILIDAD (registro de transacciones)\")\n",
    "    \n",
    "    if 'cobraron' in comentario.lower():\n",
    "        print(f\"   🎯 'cobraron' → Relacionado con transacciones financieras\")\n",
    "    \n",
    "    print(f\"=\" * 60)\n",
    "\n",
    "# Aplicar análisis al ejemplo\n",
    "print(\"\\n\" + \"🔬\" * 20 + \" ANÁLISIS PROFUNDO \" + \"🔬\" * 20)\n",
    "explicar_clasificacion_iso25010(comment2, 'integridad')"
   ]
  },
  {
   "cell_type": "code",
   "execution_count": 42,
   "metadata": {
    "colab": {
     "base_uri": "https://localhost:8080/"
    },
    "executionInfo": {
     "elapsed": 632,
     "status": "ok",
     "timestamp": 1625399082230,
     "user": {
      "displayName": "Savas Yıldırım",
      "photoUrl": "https://lh3.googleusercontent.com/a-/AOh14GhdhYZMfq-hvK2xI7HqkzvJuCbfgFrIs4wypQEm5w=s64",
      "userId": "10717726124681851716"
     },
     "user_tz": -180
    },
    "id": "5hc65L_mQcVf",
    "outputId": "43a2bda2-c915-47b5-f29c-8319bf76deeb"
   },
   "outputs": [
    {
     "name": "stdout",
     "output_type": "stream",
     "text": [
      "💬 Comentario: la aplicación se cuelga constantemente y no me deja acceder a mi cuenta\n",
      "🔍 Clasificación:\n",
      "  autenticidad: 0.064\n",
      "  integridad: 0.182\n",
      "  responsabilidad: 0.173\n",
      "\n",
      "================================================================================\n",
      "✅ MODELO LISTO PARA CLASIFICAR COMENTARIOS SEGÚN ISO 25010\n",
      "🎯 Características de seguridad detectadas:\n",
      "  • Authenticity (Autenticidad)\n",
      "  • Integrity (Integridad)\n",
      "  • Non-repudiation (No repudio)\n",
      "  • Accountability (Responsabilidad)\n",
      "  • Confidentiality (Confidencialidad)\n",
      "  • Resistance (Resistencia)\n",
      "================================================================================\n"
     ]
    }
   ],
   "source": [
    "# Ejemplo 3: Problema de resistencia \n",
    "comment3 = \"la aplicación se cuelga constantemente y no me deja acceder a mi cuenta\"\n",
    "result3 = iso25010_classifier(comment3)\n",
    "print(\"💬 Comentario:\", comment3)\n",
    "print(\"🔍 Clasificación:\")\n",
    "for score in result3[0][:3]:  # Top 3 predicciones\n",
    "    print(f\"  {score['label']}: {score['score']:.3f}\")\n",
    "\n",
    "print(\"\\n\" + \"=\"*80)\n",
    "print(\"✅ MODELO LISTO PARA CLASIFICAR COMENTARIOS SEGÚN ISO 25010\")\n",
    "print(\"🎯 Características de seguridad detectadas:\")\n",
    "print(\"  • Authenticity (Autenticidad)\")\n",
    "print(\"  • Integrity (Integridad)\") \n",
    "print(\"  • Non-repudiation (No repudio)\")\n",
    "print(\"  • Accountability (Responsabilidad)\")\n",
    "print(\"  • Confidentiality (Confidencialidad)\")\n",
    "print(\"  • Resistance (Resistencia)\")\n",
    "print(\"=\"*80)"
   ]
  }
 ],
 "metadata": {
  "accelerator": "GPU",
  "colab": {
   "authorship_tag": "ABX9TyO2hBd/tE18yqAA78qNBNVu",
   "collapsed_sections": [],
   "name": "CH05c_Multi-class_Classification.ipynb",
   "provenance": []
  },
  "kernelspec": {
   "display_name": "Python 3",
   "name": "python3"
  },
  "language_info": {
   "codemirror_mode": {
    "name": "ipython",
    "version": 3
   },
   "file_extension": ".py",
   "mimetype": "text/x-python",
   "name": "python",
   "nbconvert_exporter": "python",
   "pygments_lexer": "ipython3",
   "version": "3.13.5"
  },
  "widgets": {
   "application/vnd.jupyter.widget-state+json": {
    "0479af3dea114a4b86c98cd104325344": {
     "model_module": "@jupyter-widgets/base",
     "model_name": "LayoutModel",
     "state": {
      "_model_module": "@jupyter-widgets/base",
      "_model_module_version": "1.2.0",
      "_model_name": "LayoutModel",
      "_view_count": null,
      "_view_module": "@jupyter-widgets/base",
      "_view_module_version": "1.2.0",
      "_view_name": "LayoutView",
      "align_content": null,
      "align_items": null,
      "align_self": null,
      "border": null,
      "bottom": null,
      "display": null,
      "flex": null,
      "flex_flow": null,
      "grid_area": null,
      "grid_auto_columns": null,
      "grid_auto_flow": null,
      "grid_auto_rows": null,
      "grid_column": null,
      "grid_gap": null,
      "grid_row": null,
      "grid_template_areas": null,
      "grid_template_columns": null,
      "grid_template_rows": null,
      "height": null,
      "justify_content": null,
      "justify_items": null,
      "left": null,
      "margin": null,
      "max_height": null,
      "max_width": null,
      "min_height": null,
      "min_width": null,
      "object_fit": null,
      "object_position": null,
      "order": null,
      "overflow": null,
      "overflow_x": null,
      "overflow_y": null,
      "padding": null,
      "right": null,
      "top": null,
      "visibility": null,
      "width": null
     }
    },
    "1886bd7f86534fcea494bef48439e7db": {
     "model_module": "@jupyter-widgets/base",
     "model_name": "LayoutModel",
     "state": {
      "_model_module": "@jupyter-widgets/base",
      "_model_module_version": "1.2.0",
      "_model_name": "LayoutModel",
      "_view_count": null,
      "_view_module": "@jupyter-widgets/base",
      "_view_module_version": "1.2.0",
      "_view_name": "LayoutView",
      "align_content": null,
      "align_items": null,
      "align_self": null,
      "border": null,
      "bottom": null,
      "display": null,
      "flex": null,
      "flex_flow": null,
      "grid_area": null,
      "grid_auto_columns": null,
      "grid_auto_flow": null,
      "grid_auto_rows": null,
      "grid_column": null,
      "grid_gap": null,
      "grid_row": null,
      "grid_template_areas": null,
      "grid_template_columns": null,
      "grid_template_rows": null,
      "height": null,
      "justify_content": null,
      "justify_items": null,
      "left": null,
      "margin": null,
      "max_height": null,
      "max_width": null,
      "min_height": null,
      "min_width": null,
      "object_fit": null,
      "object_position": null,
      "order": null,
      "overflow": null,
      "overflow_x": null,
      "overflow_y": null,
      "padding": null,
      "right": null,
      "top": null,
      "visibility": null,
      "width": null
     }
    },
    "21fbbe9bd6d94f308668ac1e4c2a51d0": {
     "model_module": "@jupyter-widgets/controls",
     "model_name": "HBoxModel",
     "state": {
      "_dom_classes": [],
      "_model_module": "@jupyter-widgets/controls",
      "_model_module_version": "1.5.0",
      "_model_name": "HBoxModel",
      "_view_count": null,
      "_view_module": "@jupyter-widgets/controls",
      "_view_module_version": "1.5.0",
      "_view_name": "HBoxView",
      "box_style": "",
      "children": [
       "IPY_MODEL_d9bad87a40624bbe9a7b8e5021b6b878",
       "IPY_MODEL_6f869fe141f847a881532c74c5d8b269"
      ],
      "layout": "IPY_MODEL_f391632fced34067a6bc7f76034d8d38"
     }
    },
    "35a5b5e6ff374b6a80e8677d695a5409": {
     "model_module": "@jupyter-widgets/controls",
     "model_name": "ProgressStyleModel",
     "state": {
      "_model_module": "@jupyter-widgets/controls",
      "_model_module_version": "1.5.0",
      "_model_name": "ProgressStyleModel",
      "_view_count": null,
      "_view_module": "@jupyter-widgets/base",
      "_view_module_version": "1.2.0",
      "_view_name": "StyleView",
      "bar_color": null,
      "description_width": "initial"
     }
    },
    "395f10a793684087b6e3747154e17f8d": {
     "model_module": "@jupyter-widgets/controls",
     "model_name": "FloatProgressModel",
     "state": {
      "_dom_classes": [],
      "_model_module": "@jupyter-widgets/controls",
      "_model_module_version": "1.5.0",
      "_model_name": "FloatProgressModel",
      "_view_count": null,
      "_view_module": "@jupyter-widgets/controls",
      "_view_module_version": "1.5.0",
      "_view_name": "ProgressView",
      "bar_style": "success",
      "description": "Downloading: 100%",
      "description_tooltip": null,
      "layout": "IPY_MODEL_94930151f87e495b974a7f40de2b1db4",
      "max": 59,
      "min": 0,
      "orientation": "horizontal",
      "style": "IPY_MODEL_b3652deb88d94a3e91bc0fa58b9dce54",
      "value": 59
     }
    },
    "43a1a07853414f1fbd41c1d7a7e2a7fd": {
     "model_module": "@jupyter-widgets/controls",
     "model_name": "DescriptionStyleModel",
     "state": {
      "_model_module": "@jupyter-widgets/controls",
      "_model_module_version": "1.5.0",
      "_model_name": "DescriptionStyleModel",
      "_view_count": null,
      "_view_module": "@jupyter-widgets/base",
      "_view_module_version": "1.2.0",
      "_view_name": "StyleView",
      "description_width": ""
     }
    },
    "4557e0d687a44a8ab109109094f3ebd6": {
     "model_module": "@jupyter-widgets/controls",
     "model_name": "HTMLModel",
     "state": {
      "_dom_classes": [],
      "_model_module": "@jupyter-widgets/controls",
      "_model_module_version": "1.5.0",
      "_model_name": "HTMLModel",
      "_view_count": null,
      "_view_module": "@jupyter-widgets/controls",
      "_view_module_version": "1.5.0",
      "_view_name": "HTMLView",
      "description": "",
      "description_tooltip": null,
      "layout": "IPY_MODEL_0479af3dea114a4b86c98cd104325344",
      "placeholder": "​",
      "style": "IPY_MODEL_d391715c96a84d078976a10fab20265a",
      "value": " 385/385 [00:34&lt;00:00, 11.2B/s]"
     }
    },
    "4622af58d24f4eea8f67f49364118ccd": {
     "model_module": "@jupyter-widgets/controls",
     "model_name": "ProgressStyleModel",
     "state": {
      "_model_module": "@jupyter-widgets/controls",
      "_model_module_version": "1.5.0",
      "_model_name": "ProgressStyleModel",
      "_view_count": null,
      "_view_module": "@jupyter-widgets/base",
      "_view_module_version": "1.2.0",
      "_view_name": "StyleView",
      "bar_color": null,
      "description_width": "initial"
     }
    },
    "4e66a8a8057e4232a3881aef3ac3afa9": {
     "model_module": "@jupyter-widgets/controls",
     "model_name": "DescriptionStyleModel",
     "state": {
      "_model_module": "@jupyter-widgets/controls",
      "_model_module_version": "1.5.0",
      "_model_name": "DescriptionStyleModel",
      "_view_count": null,
      "_view_module": "@jupyter-widgets/base",
      "_view_module_version": "1.2.0",
      "_view_name": "StyleView",
      "description_width": ""
     }
    },
    "5db915425bac4d9caba753797e9faf29": {
     "model_module": "@jupyter-widgets/controls",
     "model_name": "ProgressStyleModel",
     "state": {
      "_model_module": "@jupyter-widgets/controls",
      "_model_module_version": "1.5.0",
      "_model_name": "ProgressStyleModel",
      "_view_count": null,
      "_view_module": "@jupyter-widgets/base",
      "_view_module_version": "1.2.0",
      "_view_name": "StyleView",
      "bar_color": null,
      "description_width": "initial"
     }
    },
    "6613484a4d0c477fb4ec5a3d4da81a73": {
     "model_module": "@jupyter-widgets/base",
     "model_name": "LayoutModel",
     "state": {
      "_model_module": "@jupyter-widgets/base",
      "_model_module_version": "1.2.0",
      "_model_name": "LayoutModel",
      "_view_count": null,
      "_view_module": "@jupyter-widgets/base",
      "_view_module_version": "1.2.0",
      "_view_name": "LayoutView",
      "align_content": null,
      "align_items": null,
      "align_self": null,
      "border": null,
      "bottom": null,
      "display": null,
      "flex": null,
      "flex_flow": null,
      "grid_area": null,
      "grid_auto_columns": null,
      "grid_auto_flow": null,
      "grid_auto_rows": null,
      "grid_column": null,
      "grid_gap": null,
      "grid_row": null,
      "grid_template_areas": null,
      "grid_template_columns": null,
      "grid_template_rows": null,
      "height": null,
      "justify_content": null,
      "justify_items": null,
      "left": null,
      "margin": null,
      "max_height": null,
      "max_width": null,
      "min_height": null,
      "min_width": null,
      "object_fit": null,
      "object_position": null,
      "order": null,
      "overflow": null,
      "overflow_x": null,
      "overflow_y": null,
      "padding": null,
      "right": null,
      "top": null,
      "visibility": null,
      "width": null
     }
    },
    "66f31b78d9974a51bd28e01d073b72a7": {
     "model_module": "@jupyter-widgets/base",
     "model_name": "LayoutModel",
     "state": {
      "_model_module": "@jupyter-widgets/base",
      "_model_module_version": "1.2.0",
      "_model_name": "LayoutModel",
      "_view_count": null,
      "_view_module": "@jupyter-widgets/base",
      "_view_module_version": "1.2.0",
      "_view_name": "LayoutView",
      "align_content": null,
      "align_items": null,
      "align_self": null,
      "border": null,
      "bottom": null,
      "display": null,
      "flex": null,
      "flex_flow": null,
      "grid_area": null,
      "grid_auto_columns": null,
      "grid_auto_flow": null,
      "grid_auto_rows": null,
      "grid_column": null,
      "grid_gap": null,
      "grid_row": null,
      "grid_template_areas": null,
      "grid_template_columns": null,
      "grid_template_rows": null,
      "height": null,
      "justify_content": null,
      "justify_items": null,
      "left": null,
      "margin": null,
      "max_height": null,
      "max_width": null,
      "min_height": null,
      "min_width": null,
      "object_fit": null,
      "object_position": null,
      "order": null,
      "overflow": null,
      "overflow_x": null,
      "overflow_y": null,
      "padding": null,
      "right": null,
      "top": null,
      "visibility": null,
      "width": null
     }
    },
    "6f869fe141f847a881532c74c5d8b269": {
     "model_module": "@jupyter-widgets/controls",
     "model_name": "HTMLModel",
     "state": {
      "_dom_classes": [],
      "_model_module": "@jupyter-widgets/controls",
      "_model_module_version": "1.5.0",
      "_model_name": "HTMLModel",
      "_view_count": null,
      "_view_module": "@jupyter-widgets/controls",
      "_view_module_version": "1.5.0",
      "_view_name": "HTMLView",
      "description": "",
      "description_tooltip": null,
      "layout": "IPY_MODEL_66f31b78d9974a51bd28e01d073b72a7",
      "placeholder": "​",
      "style": "IPY_MODEL_43a1a07853414f1fbd41c1d7a7e2a7fd",
      "value": " 263k/263k [00:01&lt;00:00, 133kB/s]"
     }
    },
    "85c4358f5a6e411fbff53e3dfe3eb88d": {
     "model_module": "@jupyter-widgets/controls",
     "model_name": "FloatProgressModel",
     "state": {
      "_dom_classes": [],
      "_model_module": "@jupyter-widgets/controls",
      "_model_module_version": "1.5.0",
      "_model_name": "FloatProgressModel",
      "_view_count": null,
      "_view_module": "@jupyter-widgets/controls",
      "_view_module_version": "1.5.0",
      "_view_name": "ProgressView",
      "bar_style": "success",
      "description": "Downloading: 100%",
      "description_tooltip": null,
      "layout": "IPY_MODEL_b42f5e933f494ea69f3dbaac391b5e23",
      "max": 445018749,
      "min": 0,
      "orientation": "horizontal",
      "style": "IPY_MODEL_4622af58d24f4eea8f67f49364118ccd",
      "value": 445018749
     }
    },
    "8ed902a5a04e4bdaac8f961afe52b622": {
     "model_module": "@jupyter-widgets/controls",
     "model_name": "HBoxModel",
     "state": {
      "_dom_classes": [],
      "_model_module": "@jupyter-widgets/controls",
      "_model_module_version": "1.5.0",
      "_model_name": "HBoxModel",
      "_view_count": null,
      "_view_module": "@jupyter-widgets/controls",
      "_view_module_version": "1.5.0",
      "_view_name": "HBoxView",
      "box_style": "",
      "children": [
       "IPY_MODEL_395f10a793684087b6e3747154e17f8d",
       "IPY_MODEL_c905e0961cf84af2bec6a29ddc0d4237"
      ],
      "layout": "IPY_MODEL_95a51d9d15734391a3895ac76b7a3676"
     }
    },
    "94930151f87e495b974a7f40de2b1db4": {
     "model_module": "@jupyter-widgets/base",
     "model_name": "LayoutModel",
     "state": {
      "_model_module": "@jupyter-widgets/base",
      "_model_module_version": "1.2.0",
      "_model_name": "LayoutModel",
      "_view_count": null,
      "_view_module": "@jupyter-widgets/base",
      "_view_module_version": "1.2.0",
      "_view_name": "LayoutView",
      "align_content": null,
      "align_items": null,
      "align_self": null,
      "border": null,
      "bottom": null,
      "display": null,
      "flex": null,
      "flex_flow": null,
      "grid_area": null,
      "grid_auto_columns": null,
      "grid_auto_flow": null,
      "grid_auto_rows": null,
      "grid_column": null,
      "grid_gap": null,
      "grid_row": null,
      "grid_template_areas": null,
      "grid_template_columns": null,
      "grid_template_rows": null,
      "height": null,
      "justify_content": null,
      "justify_items": null,
      "left": null,
      "margin": null,
      "max_height": null,
      "max_width": null,
      "min_height": null,
      "min_width": null,
      "object_fit": null,
      "object_position": null,
      "order": null,
      "overflow": null,
      "overflow_x": null,
      "overflow_y": null,
      "padding": null,
      "right": null,
      "top": null,
      "visibility": null,
      "width": null
     }
    },
    "95a51d9d15734391a3895ac76b7a3676": {
     "model_module": "@jupyter-widgets/base",
     "model_name": "LayoutModel",
     "state": {
      "_model_module": "@jupyter-widgets/base",
      "_model_module_version": "1.2.0",
      "_model_name": "LayoutModel",
      "_view_count": null,
      "_view_module": "@jupyter-widgets/base",
      "_view_module_version": "1.2.0",
      "_view_name": "LayoutView",
      "align_content": null,
      "align_items": null,
      "align_self": null,
      "border": null,
      "bottom": null,
      "display": null,
      "flex": null,
      "flex_flow": null,
      "grid_area": null,
      "grid_auto_columns": null,
      "grid_auto_flow": null,
      "grid_auto_rows": null,
      "grid_column": null,
      "grid_gap": null,
      "grid_row": null,
      "grid_template_areas": null,
      "grid_template_columns": null,
      "grid_template_rows": null,
      "height": null,
      "justify_content": null,
      "justify_items": null,
      "left": null,
      "margin": null,
      "max_height": null,
      "max_width": null,
      "min_height": null,
      "min_width": null,
      "object_fit": null,
      "object_position": null,
      "order": null,
      "overflow": null,
      "overflow_x": null,
      "overflow_y": null,
      "padding": null,
      "right": null,
      "top": null,
      "visibility": null,
      "width": null
     }
    },
    "a098193923044bfc89afdfa4faf8cc25": {
     "model_module": "@jupyter-widgets/base",
     "model_name": "LayoutModel",
     "state": {
      "_model_module": "@jupyter-widgets/base",
      "_model_module_version": "1.2.0",
      "_model_name": "LayoutModel",
      "_view_count": null,
      "_view_module": "@jupyter-widgets/base",
      "_view_module_version": "1.2.0",
      "_view_name": "LayoutView",
      "align_content": null,
      "align_items": null,
      "align_self": null,
      "border": null,
      "bottom": null,
      "display": null,
      "flex": null,
      "flex_flow": null,
      "grid_area": null,
      "grid_auto_columns": null,
      "grid_auto_flow": null,
      "grid_auto_rows": null,
      "grid_column": null,
      "grid_gap": null,
      "grid_row": null,
      "grid_template_areas": null,
      "grid_template_columns": null,
      "grid_template_rows": null,
      "height": null,
      "justify_content": null,
      "justify_items": null,
      "left": null,
      "margin": null,
      "max_height": null,
      "max_width": null,
      "min_height": null,
      "min_width": null,
      "object_fit": null,
      "object_position": null,
      "order": null,
      "overflow": null,
      "overflow_x": null,
      "overflow_y": null,
      "padding": null,
      "right": null,
      "top": null,
      "visibility": null,
      "width": null
     }
    },
    "b3652deb88d94a3e91bc0fa58b9dce54": {
     "model_module": "@jupyter-widgets/controls",
     "model_name": "ProgressStyleModel",
     "state": {
      "_model_module": "@jupyter-widgets/controls",
      "_model_module_version": "1.5.0",
      "_model_name": "ProgressStyleModel",
      "_view_count": null,
      "_view_module": "@jupyter-widgets/base",
      "_view_module_version": "1.2.0",
      "_view_name": "StyleView",
      "bar_color": null,
      "description_width": "initial"
     }
    },
    "b42f5e933f494ea69f3dbaac391b5e23": {
     "model_module": "@jupyter-widgets/base",
     "model_name": "LayoutModel",
     "state": {
      "_model_module": "@jupyter-widgets/base",
      "_model_module_version": "1.2.0",
      "_model_name": "LayoutModel",
      "_view_count": null,
      "_view_module": "@jupyter-widgets/base",
      "_view_module_version": "1.2.0",
      "_view_name": "LayoutView",
      "align_content": null,
      "align_items": null,
      "align_self": null,
      "border": null,
      "bottom": null,
      "display": null,
      "flex": null,
      "flex_flow": null,
      "grid_area": null,
      "grid_auto_columns": null,
      "grid_auto_flow": null,
      "grid_auto_rows": null,
      "grid_column": null,
      "grid_gap": null,
      "grid_row": null,
      "grid_template_areas": null,
      "grid_template_columns": null,
      "grid_template_rows": null,
      "height": null,
      "justify_content": null,
      "justify_items": null,
      "left": null,
      "margin": null,
      "max_height": null,
      "max_width": null,
      "min_height": null,
      "min_width": null,
      "object_fit": null,
      "object_position": null,
      "order": null,
      "overflow": null,
      "overflow_x": null,
      "overflow_y": null,
      "padding": null,
      "right": null,
      "top": null,
      "visibility": null,
      "width": null
     }
    },
    "b9f606782e924fdd9a22ee6039ef76f2": {
     "model_module": "@jupyter-widgets/base",
     "model_name": "LayoutModel",
     "state": {
      "_model_module": "@jupyter-widgets/base",
      "_model_module_version": "1.2.0",
      "_model_name": "LayoutModel",
      "_view_count": null,
      "_view_module": "@jupyter-widgets/base",
      "_view_module_version": "1.2.0",
      "_view_name": "LayoutView",
      "align_content": null,
      "align_items": null,
      "align_self": null,
      "border": null,
      "bottom": null,
      "display": null,
      "flex": null,
      "flex_flow": null,
      "grid_area": null,
      "grid_auto_columns": null,
      "grid_auto_flow": null,
      "grid_auto_rows": null,
      "grid_column": null,
      "grid_gap": null,
      "grid_row": null,
      "grid_template_areas": null,
      "grid_template_columns": null,
      "grid_template_rows": null,
      "height": null,
      "justify_content": null,
      "justify_items": null,
      "left": null,
      "margin": null,
      "max_height": null,
      "max_width": null,
      "min_height": null,
      "min_width": null,
      "object_fit": null,
      "object_position": null,
      "order": null,
      "overflow": null,
      "overflow_x": null,
      "overflow_y": null,
      "padding": null,
      "right": null,
      "top": null,
      "visibility": null,
      "width": null
     }
    },
    "bed0bf19829f4957985091c7f308190c": {
     "model_module": "@jupyter-widgets/base",
     "model_name": "LayoutModel",
     "state": {
      "_model_module": "@jupyter-widgets/base",
      "_model_module_version": "1.2.0",
      "_model_name": "LayoutModel",
      "_view_count": null,
      "_view_module": "@jupyter-widgets/base",
      "_view_module_version": "1.2.0",
      "_view_name": "LayoutView",
      "align_content": null,
      "align_items": null,
      "align_self": null,
      "border": null,
      "bottom": null,
      "display": null,
      "flex": null,
      "flex_flow": null,
      "grid_area": null,
      "grid_auto_columns": null,
      "grid_auto_flow": null,
      "grid_auto_rows": null,
      "grid_column": null,
      "grid_gap": null,
      "grid_row": null,
      "grid_template_areas": null,
      "grid_template_columns": null,
      "grid_template_rows": null,
      "height": null,
      "justify_content": null,
      "justify_items": null,
      "left": null,
      "margin": null,
      "max_height": null,
      "max_width": null,
      "min_height": null,
      "min_width": null,
      "object_fit": null,
      "object_position": null,
      "order": null,
      "overflow": null,
      "overflow_x": null,
      "overflow_y": null,
      "padding": null,
      "right": null,
      "top": null,
      "visibility": null,
      "width": null
     }
    },
    "c905e0961cf84af2bec6a29ddc0d4237": {
     "model_module": "@jupyter-widgets/controls",
     "model_name": "HTMLModel",
     "state": {
      "_dom_classes": [],
      "_model_module": "@jupyter-widgets/controls",
      "_model_module_version": "1.5.0",
      "_model_name": "HTMLModel",
      "_view_count": null,
      "_view_module": "@jupyter-widgets/controls",
      "_view_module_version": "1.5.0",
      "_view_name": "HTMLView",
      "description": "",
      "description_tooltip": null,
      "layout": "IPY_MODEL_a098193923044bfc89afdfa4faf8cc25",
      "placeholder": "​",
      "style": "IPY_MODEL_4e66a8a8057e4232a3881aef3ac3afa9",
      "value": " 59.0/59.0 [00:00&lt;00:00, 730B/s]"
     }
    },
    "ce256db990954d9f9782eae9a248b40b": {
     "model_module": "@jupyter-widgets/controls",
     "model_name": "FloatProgressModel",
     "state": {
      "_dom_classes": [],
      "_model_module": "@jupyter-widgets/controls",
      "_model_module_version": "1.5.0",
      "_model_name": "FloatProgressModel",
      "_view_count": null,
      "_view_module": "@jupyter-widgets/controls",
      "_view_module_version": "1.5.0",
      "_view_name": "ProgressView",
      "bar_style": "success",
      "description": "Downloading: 100%",
      "description_tooltip": null,
      "layout": "IPY_MODEL_6613484a4d0c477fb4ec5a3d4da81a73",
      "max": 385,
      "min": 0,
      "orientation": "horizontal",
      "style": "IPY_MODEL_5db915425bac4d9caba753797e9faf29",
      "value": 385
     }
    },
    "cfe8a0c3575a49b6b298262ed7acf76d": {
     "model_module": "@jupyter-widgets/controls",
     "model_name": "HTMLModel",
     "state": {
      "_dom_classes": [],
      "_model_module": "@jupyter-widgets/controls",
      "_model_module_version": "1.5.0",
      "_model_name": "HTMLModel",
      "_view_count": null,
      "_view_module": "@jupyter-widgets/controls",
      "_view_module_version": "1.5.0",
      "_view_name": "HTMLView",
      "description": "",
      "description_tooltip": null,
      "layout": "IPY_MODEL_dd7628d863794892b9b1fdd7c5e5df42",
      "placeholder": "​",
      "style": "IPY_MODEL_f92aca32755f45c3ba2b8cab79d44eed",
      "value": " 445M/445M [00:09&lt;00:00, 49.2MB/s]"
     }
    },
    "d391715c96a84d078976a10fab20265a": {
     "model_module": "@jupyter-widgets/controls",
     "model_name": "DescriptionStyleModel",
     "state": {
      "_model_module": "@jupyter-widgets/controls",
      "_model_module_version": "1.5.0",
      "_model_name": "DescriptionStyleModel",
      "_view_count": null,
      "_view_module": "@jupyter-widgets/base",
      "_view_module_version": "1.2.0",
      "_view_name": "StyleView",
      "description_width": ""
     }
    },
    "d9bad87a40624bbe9a7b8e5021b6b878": {
     "model_module": "@jupyter-widgets/controls",
     "model_name": "FloatProgressModel",
     "state": {
      "_dom_classes": [],
      "_model_module": "@jupyter-widgets/controls",
      "_model_module_version": "1.5.0",
      "_model_name": "FloatProgressModel",
      "_view_count": null,
      "_view_module": "@jupyter-widgets/controls",
      "_view_module_version": "1.5.0",
      "_view_name": "ProgressView",
      "bar_style": "success",
      "description": "Downloading: 100%",
      "description_tooltip": null,
      "layout": "IPY_MODEL_bed0bf19829f4957985091c7f308190c",
      "max": 262620,
      "min": 0,
      "orientation": "horizontal",
      "style": "IPY_MODEL_35a5b5e6ff374b6a80e8677d695a5409",
      "value": 262620
     }
    },
    "dd7628d863794892b9b1fdd7c5e5df42": {
     "model_module": "@jupyter-widgets/base",
     "model_name": "LayoutModel",
     "state": {
      "_model_module": "@jupyter-widgets/base",
      "_model_module_version": "1.2.0",
      "_model_name": "LayoutModel",
      "_view_count": null,
      "_view_module": "@jupyter-widgets/base",
      "_view_module_version": "1.2.0",
      "_view_name": "LayoutView",
      "align_content": null,
      "align_items": null,
      "align_self": null,
      "border": null,
      "bottom": null,
      "display": null,
      "flex": null,
      "flex_flow": null,
      "grid_area": null,
      "grid_auto_columns": null,
      "grid_auto_flow": null,
      "grid_auto_rows": null,
      "grid_column": null,
      "grid_gap": null,
      "grid_row": null,
      "grid_template_areas": null,
      "grid_template_columns": null,
      "grid_template_rows": null,
      "height": null,
      "justify_content": null,
      "justify_items": null,
      "left": null,
      "margin": null,
      "max_height": null,
      "max_width": null,
      "min_height": null,
      "min_width": null,
      "object_fit": null,
      "object_position": null,
      "order": null,
      "overflow": null,
      "overflow_x": null,
      "overflow_y": null,
      "padding": null,
      "right": null,
      "top": null,
      "visibility": null,
      "width": null
     }
    },
    "eda88132d04243bcb499af9e82a789ba": {
     "model_module": "@jupyter-widgets/controls",
     "model_name": "HBoxModel",
     "state": {
      "_dom_classes": [],
      "_model_module": "@jupyter-widgets/controls",
      "_model_module_version": "1.5.0",
      "_model_name": "HBoxModel",
      "_view_count": null,
      "_view_module": "@jupyter-widgets/controls",
      "_view_module_version": "1.5.0",
      "_view_name": "HBoxView",
      "box_style": "",
      "children": [
       "IPY_MODEL_ce256db990954d9f9782eae9a248b40b",
       "IPY_MODEL_4557e0d687a44a8ab109109094f3ebd6"
      ],
      "layout": "IPY_MODEL_b9f606782e924fdd9a22ee6039ef76f2"
     }
    },
    "f391632fced34067a6bc7f76034d8d38": {
     "model_module": "@jupyter-widgets/base",
     "model_name": "LayoutModel",
     "state": {
      "_model_module": "@jupyter-widgets/base",
      "_model_module_version": "1.2.0",
      "_model_name": "LayoutModel",
      "_view_count": null,
      "_view_module": "@jupyter-widgets/base",
      "_view_module_version": "1.2.0",
      "_view_name": "LayoutView",
      "align_content": null,
      "align_items": null,
      "align_self": null,
      "border": null,
      "bottom": null,
      "display": null,
      "flex": null,
      "flex_flow": null,
      "grid_area": null,
      "grid_auto_columns": null,
      "grid_auto_flow": null,
      "grid_auto_rows": null,
      "grid_column": null,
      "grid_gap": null,
      "grid_row": null,
      "grid_template_areas": null,
      "grid_template_columns": null,
      "grid_template_rows": null,
      "height": null,
      "justify_content": null,
      "justify_items": null,
      "left": null,
      "margin": null,
      "max_height": null,
      "max_width": null,
      "min_height": null,
      "min_width": null,
      "object_fit": null,
      "object_position": null,
      "order": null,
      "overflow": null,
      "overflow_x": null,
      "overflow_y": null,
      "padding": null,
      "right": null,
      "top": null,
      "visibility": null,
      "width": null
     }
    },
    "f8532b3abd7e4243a8fb0ade8e0540e7": {
     "model_module": "@jupyter-widgets/controls",
     "model_name": "HBoxModel",
     "state": {
      "_dom_classes": [],
      "_model_module": "@jupyter-widgets/controls",
      "_model_module_version": "1.5.0",
      "_model_name": "HBoxModel",
      "_view_count": null,
      "_view_module": "@jupyter-widgets/controls",
      "_view_module_version": "1.5.0",
      "_view_name": "HBoxView",
      "box_style": "",
      "children": [
       "IPY_MODEL_85c4358f5a6e411fbff53e3dfe3eb88d",
       "IPY_MODEL_cfe8a0c3575a49b6b298262ed7acf76d"
      ],
      "layout": "IPY_MODEL_1886bd7f86534fcea494bef48439e7db"
     }
    },
    "f92aca32755f45c3ba2b8cab79d44eed": {
     "model_module": "@jupyter-widgets/controls",
     "model_name": "DescriptionStyleModel",
     "state": {
      "_model_module": "@jupyter-widgets/controls",
      "_model_module_version": "1.5.0",
      "_model_name": "DescriptionStyleModel",
      "_view_count": null,
      "_view_module": "@jupyter-widgets/base",
      "_view_module_version": "1.2.0",
      "_view_name": "StyleView",
      "description_width": ""
     }
    }
   }
  }
 },
 "nbformat": 4,
 "nbformat_minor": 0
}
